{
 "cells": [
  {
   "cell_type": "markdown",
   "metadata": {
    "slideshow": {
     "slide_type": "slide"
    }
   },
   "source": [
    "### GESIS Fall Seminar in Computational Social Science 2022\n",
    "### Introduction to Computational Social Science with Python\n",
    "# Day 5-1: Basics of Visualisation"
   ]
  },
  {
   "cell_type": "markdown",
   "metadata": {
    "slideshow": {
     "slide_type": "slide"
    }
   },
   "source": [
    "## Overview\n",
    "\n",
    "* Understanding plot elements\n",
    "* Choosing the right chart\n",
    "* Principles of colour\n",
    "* Approaches going forward"
   ]
  },
  {
   "cell_type": "markdown",
   "metadata": {},
   "source": [
    "## Understanding plot elements\n",
    "* Title, subtitle\n",
    "* Annotations\n",
    "* Caption\n",
    "* Axes\n",
    "* Gridlines\n",
    "* Data\n",
    "    - Lines, points, areas, colours, associated errors\n",
    "* Legend"
   ]
  },
  {
   "cell_type": "markdown",
   "metadata": {},
   "source": [
    "# TODO: Figure(s) here"
   ]
  },
  {
   "cell_type": "markdown",
   "metadata": {},
   "source": [
    "### Title, subtitle\n",
    "* A simple description of the figure.\n",
    "* Subtitles can be used for extra detail, or to describe different subsets/facts of the data\n",
    "* Try to avoid repeating information in the axes labels/annotations."
   ]
  },
  {
   "cell_type": "markdown",
   "metadata": {},
   "source": [
    "### Caption\n",
    "* A longer textual description of the figure.\n",
    "* The figure + should be fully interpredtable if removed from the article they are in."
   ]
  },
  {
   "cell_type": "markdown",
   "metadata": {},
   "source": [
    "### Annotations\n",
    "* Short annotations can be used to emphasise key parts of a plot.\n",
    "* Anything more than a few words should be included in the figure subtitle/caption."
   ]
  },
  {
   "cell_type": "markdown",
   "metadata": {},
   "source": [
    "### Axes\n",
    "* The spatial dimensions and scales used to visualise data.\n",
    "* Typically X axis (horizontal) and Y axis (vertical), but more possible (Z, polar).\n",
    "* Should be clearly labelled with name, units, and numeric scale.\n",
    "* Be aware of different axis scales: linear, inverted, logarithmic, ..."
   ]
  },
  {
   "cell_type": "markdown",
   "metadata": {},
   "source": [
    "### Gridlines\n",
    "* Lines on a plot indicating specific axis values.\n",
    "* Help to make the plot more readable, viewers can more easily compare values against gridlines than the axis."
   ]
  },
  {
   "cell_type": "markdown",
   "metadata": {},
   "source": [
    "### Data\n",
    "* The visual representation of the data.\n",
    "* Many different forms of visualisation.\n",
    "* Ensure data is appropriately scaled, all datapoints are clearly represented."
   ]
  },
  {
   "cell_type": "markdown",
   "metadata": {},
   "source": [
    "### Legend\n",
    "* A part of the plot used to describe different groups of data, typically represented by different colour/size/shape.\n",
    "* A legend should be used when different groups/series of data are used.\n",
    "* A legend should not obscure (important) data on the plot."
   ]
  },
  {
   "cell_type": "markdown",
   "metadata": {},
   "source": [
    "## Choosing the right chart\n",
    "* Data\n",
    "* Audience\n",
    "* Message"
   ]
  },
  {
   "cell_type": "markdown",
   "metadata": {},
   "source": [
    "### Data\n",
    "* The style(s) of visualisation available to use is clearly dependent on the data at hand.\n",
    "    - Relational, distributional, comparisonal, compositional, ... (and combinations thereof)\n",
    "* Sometimes different options are available, not all of them good options!\n",
    "* The [Data Visualisation Catalogue](https://datavizcatalogue.com/) and [Data Viz Project](https://datavizproject.com/) are excellent libraries for different kinds of visualisations."
   ]
  },
  {
   "cell_type": "markdown",
   "metadata": {},
   "source": [
    "### Audience\n",
    "* Yourself - exploratory data analysis\n",
    "    - Quick and easy\n",
    "    - Explore all facets of data (extremes of data, errors, transformations)\n",
    "* Academic papers\n",
    "    - The \"best\" version of your figure - optimising information density and simplicity for expert reader\n",
    "    - Figure with caption should stand on its own\n",
    "    - Detailed reference, interpretation, and discussion of figures in body of paper\n",
    "* Academic presentations\n",
    "    - BIG labels\n",
    "    - Emphasise key points (figure can be dynamic)\n",
    "* Media / public \n",
    "    - Jargon removed\n",
    "    - Instructive labels often required \n",
    "    - Nuance/technicality sometimes lost at expense of conveying key point"
   ]
  },
  {
   "cell_type": "markdown",
   "metadata": {},
   "source": [
    "### Message\n",
    "* What is the point trying to be conveyed by the visualisation?\n",
    "* Is it self evident from the figure, or can it be supported with labels/captions?\n",
    "* How can scale, colour, shape, etc be used to emphasise particular points?"
   ]
  },
  {
   "cell_type": "markdown",
   "metadata": {},
   "source": [
    "## Principles of colour\n",
    "* Palettes\n",
    "* Hue\n",
    "* Luminance\n",
    "* Colourblindness\n",
    "# TODO"
   ]
  },
  {
   "cell_type": "markdown",
   "metadata": {},
   "source": [
    "### Palettes"
   ]
  },
  {
   "cell_type": "markdown",
   "metadata": {},
   "source": [
    "### Hue"
   ]
  },
  {
   "cell_type": "markdown",
   "metadata": {},
   "source": [
    "### Luminance"
   ]
  },
  {
   "cell_type": "markdown",
   "metadata": {},
   "source": [
    "### Colourblindness"
   ]
  },
  {
   "cell_type": "markdown",
   "metadata": {},
   "source": [
    "## Approaches going forward\n",
    "* Best practices\n",
    "* Dataviz crimes(?)"
   ]
  },
  {
   "cell_type": "markdown",
   "metadata": {},
   "source": [
    "### Best practices\n",
    "#### Do\n",
    "* Title and label all figures, axes, scales\n",
    "* Include full axis scales\n",
    "* Include indications of error/uncertainty where appropriate\n",
    "* Ensure colours are differentiable (think about colourblindness, B&W print)\n",
    "* Ensure colours are representative of the subject if applicable (where possible)\n",
    "* Maximise \"data-ink ratio\"\n",
    "* Follow norms and conventions\n",
    "\n",
    "#### Don't\n",
    "* Omit data without good reason and communication to viewer\n",
    "* Use extra dimensions like colour, shape if they do not represent anything\n",
    "* Rely on comparisons of area, humans are not good at it\n",
    "* Overcrowd a single plot with data - facets can be useful\n",
    "* Use static 3D figures in a 2D medium\n",
    "* Waste time perfecting your figures before finishing the analysis\n",
    "* Deliberately mislead - often the \"worst\" graphics are produced by those with best understanding of visualisation\n",
    "\n",
    "#### Be flexible\n",
    "* Sometimes rules need to be broken e.g.:\n",
    "    - Principles of differentiable / representative colours are sometimes incompatible.\n",
    "    - Starting axes at 0 is not always best, especially if emphasising consequential absolute changes that are small in relative terms (e.g. global temperature changes)\n",
    "    - Understand your audience, ask someone to preview your figure. If they don't understand it, find out why.\n",
    "\n",
    "<!-- #### Keep learning\n",
    "* Active communities focussed on data visualisation\n",
    "    -\n",
    "    - \n",
    "    - Be wary of \"gurus\" constantly selling courses -->\n",
    "    \n",
    "\n"
   ]
  },
  {
   "cell_type": "markdown",
   "metadata": {},
   "source": [
    "### Dataviz crimes(?)\n",
    "\n",
    "#### Non-representative visualisations\n",
    "![GE1997](figs/GE1997.svg \"GE1997\")\n",
    "UK general election results 1997. This was a landslide majority victory for Labour (red), but the area of colour on the figure does not convey the win by number of constituencies.\n",
    "\n",
    "#### Uninterpretable plots\n",
    "![pie](figs/badpie.png \"pie\")\n",
    "Pie charts are bad. 3D pie charts are worse. Exploded 3D pie charts are unforgivable. \n",
    "\n",
    "\n",
    "#### Misleading figures\n",
    "Purdue Pharma promoted their drug Oxycontin in the US using the figure below. It supposedly illustrates that their long-acting opioid doesn't produce the highs and lows of short-acting opioids, so is less addictive. What is wrong with it?\n",
    "\n",
    "![Oxycontin1](figs/oxy1.jpg \"Oxycontin1\")\n",
    "\n",
    "Not only are the y axes not labelled, but the plot for their long-acting opioid data is based on a figure using a *logarithmic* y-axis - compressing the top of the curve. The true data is below.\n",
    "\n",
    "![Oxycontin2](figs/oxy2.png \"Oxycontin2\")\n",
    "\n",
    "This criminal visualisation contributed to a guilty verdict in a 2007 legal case which cost the company $600million in fines. The company and Sackler family have since paid billions further in related settlements.\n",
    "\n",
    "#### Embracing 'bad' dataviz\n",
    "[Billionaire wealth to scale](https://mkorostoff.github.io/1-pixel-wealth/)\n",
    "* Our data isn't all presented, it takes significant scrolling to view the entire figure.\n",
    "* This is a feature, not a bug - demonstrates enormous billionaire wealth. \n",
    "* As such, the figure is well designed for the audience and web format."
   ]
  },
  {
   "cell_type": "code",
   "execution_count": null,
   "metadata": {},
   "outputs": [],
   "source": []
  }
 ],
 "metadata": {
  "celltoolbar": "Slideshow",
  "kernelspec": {
   "display_name": "Python 3 (ipykernel)",
   "language": "python",
   "name": "python3"
  },
  "language_info": {
   "codemirror_mode": {
    "name": "ipython",
    "version": 3
   },
   "file_extension": ".py",
   "mimetype": "text/x-python",
   "name": "python",
   "nbconvert_exporter": "python",
   "pygments_lexer": "ipython3",
   "version": "3.7.7"
  }
 },
 "nbformat": 4,
 "nbformat_minor": 2
}
