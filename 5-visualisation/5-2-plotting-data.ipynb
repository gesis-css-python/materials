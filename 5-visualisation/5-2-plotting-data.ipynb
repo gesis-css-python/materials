{
 "cells": [
  {
   "cell_type": "markdown",
   "metadata": {
    "slideshow": {
     "slide_type": "slide"
    }
   },
   "source": [
    "### GESIS Fall Seminar in Computational Social Science 2022\n",
    "### Introduction to Computational Social Science with Python\n",
    "# Day 5-2: Plotting Data with Matplotlib and Seaborn"
   ]
  },
  {
   "cell_type": "markdown",
   "metadata": {
    "slideshow": {
     "slide_type": "slide"
    }
   },
   "source": [
    "## Overview\n",
    "\n",
    "* Basic plotting in Python\n",
    "* Pyplot vs the object-oriented approach\n",
    "* Customising plots and figures\n",
    "* Attractive plots with Seaborn"
   ]
  },
  {
   "cell_type": "markdown",
   "metadata": {},
   "source": [
    "### PSA: The focus of this notebook is on learning the basic commands for plotting in Python. As such, many of the figures in this notebook do not strictly follow many of the guidelines from the previous notebook. Think about how you would improve the figures yourself!"
   ]
  },
  {
   "cell_type": "markdown",
   "metadata": {},
   "source": [
    "## Basic plotting in Python\n",
    "* `matplotlib` is the core library for plotting figures in Python.\n",
    "* Lots of libraries build on matplotlib for domain-specific plotting.\n",
    "* Comprehensive documentation and tutorials [here](https://matplotlib.org/)."
   ]
  },
  {
   "cell_type": "code",
   "execution_count": null,
   "metadata": {},
   "outputs": [],
   "source": [
    "import matplotlib.pyplot as plt\n",
    "import pandas as pd\n",
    "import numpy as np"
   ]
  },
  {
   "cell_type": "code",
   "execution_count": null,
   "metadata": {},
   "outputs": [],
   "source": [
    "# Plot a simple figure\n",
    "plt.figure() # Create a figure\n",
    "\n",
    "plt.plot([1,2,4,8,9,13], [0,5,6,7,10,5]) # plot data\n",
    "\n",
    "plt.show() # show figure"
   ]
  },
  {
   "cell_type": "code",
   "execution_count": null,
   "metadata": {},
   "outputs": [],
   "source": [
    "# Add some commands to label the plot\n",
    "\n",
    "plt.figure()\n",
    "plt.plot([1,2,4,8,9,13], [0,5,6,7,10,5])\n",
    "\n",
    "plt.title('This is a title') # add a title and labels\n",
    "plt.xlabel('This is a x axis label')\n",
    "plt.ylabel('This is a y axis label')\n",
    "plt.text(6, 4, 'This is text at point (6,4)')\n",
    "\n",
    "plt.show()"
   ]
  },
  {
   "cell_type": "code",
   "execution_count": null,
   "metadata": {},
   "outputs": [],
   "source": [
    "# Plotting labelled data\n",
    "\n",
    "data = {'age': [10, 13, 16, 18, 21, 25],\n",
    "        'height': [140, 150, 160, 167, 168, 168]}\n",
    "\n",
    "plt.figure()\n",
    "plt.scatter('age', 'height', data=data) # custom color and size\n",
    "plt.show()\n",
    "\n",
    "# Equivalent plot\n",
    "plt.figure()\n",
    "plt.scatter(data['age'], data['height']) # custom color and size\n",
    "plt.show()"
   ]
  },
  {
   "cell_type": "code",
   "execution_count": null,
   "metadata": {},
   "outputs": [],
   "source": [
    "# More complex plot\n",
    "\n",
    "plt.figure(figsize = (10,5)) # specify figure size\n",
    "\n",
    "plt.plot([1,2,4,8,9,13], [0,5,6,7,10,5], label = 'line1') # add a label\n",
    "\n",
    "plt.plot([2,3,4,7,10,12], [1,4,5,9,4,2], label = 'line2') # add more plots to same figure\n",
    "plt.scatter([2, 5, 9], [9, 5, 7], label = 'scatter')\n",
    "plt.hist([1,1,3,4,5,6,3,3,5,3,7,7,2,12,1,4,9,8,7,9,8,10], label = 'hist')\n",
    "\n",
    "plt.text(6, 4, 'This is text at point (6,4)') # add text\n",
    "\n",
    "plt.title('This is a title') # add title and labels\n",
    "plt.xlabel('This is a x axis label')\n",
    "plt.ylabel('This is a y axis label')\n",
    "\n",
    "plt.xlim(1,20) # change axis limits\n",
    "plt.ylim(-1,11)\n",
    "\n",
    "plt.xscale('log') # change x axis scale\n",
    "plt.yticks([0,5,10], [0,'five',10]) # change y ticks\n",
    "\n",
    "plt.legend() # show the legend\n",
    "\n",
    "plt.savefig('demofig.png') # png for fixed resolution image\n",
    "plt.savefig('demofig.pdf') # pdf for vector graphics (high quality, greater compatibility)\n",
    "plt.savefig('demofig.svg') # svg for vector graphics (high quality, more natural image format, smaller filesize)\n",
    "\n",
    "plt.show()"
   ]
  },
  {
   "cell_type": "markdown",
   "metadata": {},
   "source": [
    "### Frequently used pyplot commands\n",
    "\n",
    "| Command | Meaning | Argument(s) |\n",
    "| -------- | ------- | ----- |\n",
    "| [`plt.figure()`](https://matplotlib.org/stable/api/_as_gen/matplotlib.pyplot.figure.html) | Create a figure | see docs |\n",
    "| [`plt.show()`](https://matplotlib.org/stable/api/_as_gen/matplotlib.pyplot.show.html) | Display figure | see docs |\n",
    "| [`plt.title()`](https://matplotlib.org/stable/api/_as_gen/matplotlib.pyplot.title.html)  | Set a title for Axes | string |\n",
    "| [`plt.text()`](https://matplotlib.org/stable/api/_as_gen/matplotlib.pyplot.text.html)     | Add text to Axes | (x, y, string) |\n",
    "| [`plt.legend()`](https://matplotlib.org/stable/api/_as_gen/matplotlib.pyplot.legend.html) | Create legend | see docs |\n",
    "| [`plt.colorbar()`](https://matplotlib.org/stable/api/_as_gen/matplotlib.pyplot.colorbar.html)     | Create colorbar | see docs |\n",
    "| [`plt.xlabel()`](https://matplotlib.org/stable/api/_as_gen/matplotlib.pyplot.xlabel.html), [`plt.ylabel()`](https://matplotlib.org/stable/api/_as_gen/matplotlib.pyplot.ylabel.html)       | Label x/y axis | string |\n",
    "| [`plt.xlim()`](https://matplotlib.org/stable/api/_as_gen/matplotlib.pyplot.xlim.html), [`plt.ylim()`](https://matplotlib.org/stable/api/_as_gen/matplotlib.pyplot.ylim.html)     | Set x/y axis limits | (min, max) |\n",
    "| [`plt.xscale()`](https://matplotlib.org/stable/api/_as_gen/matplotlib.pyplot.xscale.html), [`plt.yscale()`](https://matplotlib.org/stable/api/_as_gen/matplotlib.pyplot.yscale.html)      | Set x/y axis scale | {\"linear\", \"log\", \"symlog\", \"logit\", ...} |\n",
    "| [`plt.xticks()`](https://matplotlib.org/stable/api/_as_gen/matplotlib.pyplot.xticks.html), [`plt.yticks()`](https://matplotlib.org/stable/api/_as_gen/matplotlib.pyplot.yticks.html)      | Set x/y axis tick locations + labels |  array  of floats, array of strings |\n",
    "| [`plt.savefig()`](https://matplotlib.org/stable/api/_as_gen/matplotlib.pyplot.savefig.html) | Save figure | string filename |"
   ]
  },
  {
   "cell_type": "markdown",
   "metadata": {},
   "source": [
    "### Key elements in matplotlib\n",
    "* `figure`: The overall figure that contains one or more plots.\n",
    "* `axes`: An individual plot within a figure (this is the set of x, y (sometimes z) axes together)\n",
    "\n",
    "![Figure anatomy](figs/figanatomy.png \"Figure anatomy\")\n",
    "\n",
    "See the example below for how to handle subplots with `plt.subplot()`:"
   ]
  },
  {
   "cell_type": "code",
   "execution_count": null,
   "metadata": {},
   "outputs": [],
   "source": [
    "plt.figure(figsize = (10,5)) # specify figure size\n",
    "\n",
    "plt.subplot(1, 2, 1) # Create subplots with 1 row, 2 columns, and plot on axes 1\n",
    "\n",
    "plt.plot([1,2,4,8,9,13], [0,5,6,7,10,5]) # Usual plotting\n",
    "\n",
    "plt.title('This is a title for axes 1') # separate labels for axes 1\n",
    "plt.xlabel('This is a x axis label for axes 1')\n",
    "plt.ylabel('This is a y axis label for axes 1')\n",
    "\n",
    "plt.subplot(1, 2, 2)  # address subplots with 1 row, 2 columns, and plot on axes 2\n",
    "\n",
    "plt.scatter([2,3,4,7,10,12], [1,4,5,9,4,2]) # Usual plotting\n",
    "plt.plot([1,2,5,8,9,14], [2,4,2,7,8,5])\n",
    "\n",
    "plt.title('This is a title for axes 2') # separate labels for axes 2\n",
    "plt.xlabel('This is a x axis label for axes 2')\n",
    "plt.ylabel('This is a y axis label for axes 2')\n",
    "\n",
    "plt.suptitle('This is a super title') # add a 'super title'\n",
    "plt.show()"
   ]
  },
  {
   "cell_type": "markdown",
   "metadata": {},
   "source": [
    "## 🏋️‍♀️ PRACTICE"
   ]
  },
  {
   "cell_type": "code",
   "execution_count": null,
   "metadata": {},
   "outputs": [],
   "source": [
    "# Q1: Read the file pageviews_2022.h5. Use pyplot to plot the data of Kanye West and Taylor Swift in a single plot.\n",
    "\n",
    "df = pd.read_hdf('data/pageviews_2022.h5')\n",
    "df['date'] = pd.to_datetime(df['date'])\n",
    "plt.figure(figsize=(10,6))\n",
    "plt.plot(df['date'], df[['Taylor Swift', 'Kanye West']], label=['Taylor Swift', 'Kanye West'])\n",
    "plt.legend()\n",
    "plt.ylabel('Wikipedia Page Views')\n",
    "plt.xlabel('Date')\n",
    "plt.show()"
   ]
  },
  {
   "cell_type": "code",
   "execution_count": null,
   "metadata": {
    "scrolled": false
   },
   "outputs": [],
   "source": [
    "# Q2: Create a horizontal barplot (plt.barh) of the data from Europe & Central Asia countries in broadband2020.csv\n",
    "# Default commands will show the data, but probably in an uniterpretable way.\n",
    "# Consider how to improve this (e.g. with fig dimensions, font sizes, ordering, etc.)\n",
    "\n",
    "df = pd.read_csv('data/broadband2020.csv', index_col=0)\n",
    "df = df[df['Region']=='Europe & Central Asia']\n",
    "\n",
    "s = df.sort_values('Broadband').dropna()\n",
    "\n",
    "plt.figure(figsize=(5, 12))\n",
    "plt.barh(y=s['Country Name'], width=s['Broadband'])\n",
    "plt.margins(y=0.01)\n",
    "plt.title('Broadband Internet Penetration in Europe & Central Asia')\n",
    "plt.xlabel('Fixed Broadband subscriptions per 100 people')\n",
    "plt.xlim(0, 100)\n",
    "plt.show()"
   ]
  },
  {
   "cell_type": "code",
   "execution_count": null,
   "metadata": {},
   "outputs": [],
   "source": [
    "# Q3: Read the file GDPxLife.csv\n",
    "# Create a figure with 2x2 subplots\n",
    "# Plot 1 should include a histogram of life expectancy\n",
    "# Plot 2 should include a scatter plot of GDP per capita vs life expectancy\n",
    "# Plot 3 should include a 'hist2d' plot of life expectancy vs GDP per capita\n",
    "# Plot 4 should include a histogram of GDP per capita\n",
    "\n",
    "gdplifex = pd.read_csv('data/GDPxLife.csv')\n",
    "\n",
    "plt.figure()\n",
    "plt.subplot(2,2,1)\n",
    "plt.hist(gdplifex['Life expectancy'], bins=20)\n",
    "plt.title('Life expectancy histogram')\n",
    "plt.xlabel('Life Expectancy (years)')\n",
    "\n",
    "plt.subplot(2,2,2)\n",
    "plt.title('GDP per capita vs Life Expectancy')\n",
    "plt.scatter(gdplifex['GDP per capita'], gdplifex['Life expectancy'])\n",
    "# plt.xscale('log')\n",
    "plt.xlabel('GDP per capita (US$)')\n",
    "plt.ylabel('Life Expectancy (years)')\n",
    "\n",
    "plt.subplot(2,2,3)\n",
    "plt.title('GDP per capita vs Life Expectancy')\n",
    "plt.hist2d(gdplifex['Life expectancy'], gdplifex['GDP per capita'], bins=20)\n",
    "# plt.yscale('log')\n",
    "plt.xlabel('Life Expectancy (years)')\n",
    "plt.ylabel('GDP per capita (US$)')\n",
    "\n",
    "plt.subplot(2,2,4)\n",
    "plt.title('GDP per capita histogram')\n",
    "plt.hist(gdplifex['GDP per capita'], bins=20)\n",
    "# plt.xscale('log')\n",
    "plt.xlabel('GDP per capita (US$)')\n",
    "\n",
    "plt.suptitle('Distributions of GDP per capita and Life Expectancy')\n",
    "plt.tight_layout()\n",
    "plt.show()"
   ]
  },
  {
   "cell_type": "markdown",
   "metadata": {},
   "source": [
    "## Pyplot vs the object-oriented approach\n",
    "* Pyplot is useful for basic figures and handles most things automatically.\n",
    "* Matplotlib can also be used in an _object oriented_ way.\n",
    "* Figures and axes are objects that can be explicitly handled, rather than relying on pyplot magic.\n",
    "* The object-oriented approach allows for much more complex and customisable figures.\n",
    "* Important to know the difference! (and understand when reading docs/stackoverflow)"
   ]
  },
  {
   "cell_type": "code",
   "execution_count": null,
   "metadata": {},
   "outputs": [],
   "source": [
    "# plt.subplots() creates a figure and axes object\n",
    "fig, ax = plt.subplots() # default nrows=1, ncols=1\n",
    "\n",
    "ax.plot([1,2,4,8,9,13], [0,5,6,7,10,5]) # we plot our data on the axes\n",
    "\n",
    "ax.set_title('This is a title') # add a title and labels\n",
    "ax.set_xlabel('This is a x axis label')\n",
    "ax.set_ylabel('This is a y axis label')\n",
    "ax.text(6, 4, 'This is text at point (6,4)')\n",
    "\n",
    "plt.show() # and show the figure"
   ]
  },
  {
   "cell_type": "code",
   "execution_count": null,
   "metadata": {},
   "outputs": [],
   "source": [
    "# Axes methods allow us to extract information from the plot too\n",
    "\n",
    "print(ax.get_title())\n",
    "print(ax.get_xlabel())"
   ]
  },
  {
   "cell_type": "markdown",
   "metadata": {},
   "source": [
    "### Anatomy of a figure\n",
    "\n",
    "![Figure anatomy](figs/anatomy.png \"Figure anatomy\")"
   ]
  },
  {
   "cell_type": "code",
   "execution_count": null,
   "metadata": {},
   "outputs": [],
   "source": [
    "# Let's try 2 subplots\n",
    "\n",
    "fig, axs = plt.subplots(1, 2, figsize=(10,5)) # create a figure and sets of axes in 1x2 arrangement\n",
    "\n",
    "axs[0].plot([1,2,4,8,9,13], [0,5,6,7,10,5]) # plot data on axs[0]\n",
    "axs[0].set_title('This is a title for axes 1') # add a title and labels to 'axs[0]'\n",
    "axs[0].set_xlabel('This is a x axis label')\n",
    "axs[0].set_ylabel('This is a y axis label')\n",
    "axs[0].text(6, 4, 'This is text at point (6,4)')\n",
    "\n",
    "\n",
    "axs[1].scatter([2,3,4,7,10,12], [1,4,5,9,4,2]) # plot data on axs[1]\n",
    "axs[1].plot([1,2,5,8,9,14], [2,4,2,7,8,5])\n",
    "axs[1].set_title('This is a title for axes 2') # separate labels for 'axs[1]'\n",
    "axs[1].set_xlabel('This is a x axis label for axes 2')\n",
    "axs[1].set_ylabel('This is a y axis label for axes 2')\n",
    "\n",
    "fig.suptitle('This is the figure suptitle') # add some figure labels\n",
    "fig.supxlabel('This is the figure supxlabel')\n",
    "fig.supylabel('This is the figure supylabel')\n",
    "\n",
    "fig.tight_layout() # tidy the layout\n",
    "\n",
    "plt.show()"
   ]
  },
  {
   "cell_type": "code",
   "execution_count": null,
   "metadata": {},
   "outputs": [],
   "source": [
    "# Let's try a 2x2 plot\n",
    "\n",
    "# Generate some mathematical data\n",
    "xrange = np.arange(-10, 10, 0.1)\n",
    "sinx = np.sin(xrange)\n",
    "cosx = np.cos(xrange)\n",
    "sin2x = np.sin(xrange)**2\n",
    "cos2x = np.cos(xrange)**2\n",
    "\n",
    "# create a figure and sets of axes in 2x2 arrangement with shared x and y axes\n",
    "fig, axs = plt.subplots(2, 2, figsize=(10,5), sharex='col', sharey='row')\n",
    "\n",
    "axs[0, 0].plot(xrange, sinx) # plot data on axs[0, 0]\n",
    "axs[0, 0].set_title(r'$sin(x)$') \n",
    "\n",
    "axs[0, 1].plot(xrange, sin2x) # plot data on axs[0, 1]\n",
    "axs[0, 1].set_title(r'$sin^2(x)$') \n",
    "\n",
    "axs[1, 0].plot(xrange, cosx) # plot data on axs[1, 0]\n",
    "axs[1, 0].set_title(r'$cos(x)$') \n",
    "\n",
    "axs[1, 1].plot(xrange, cos2x) # plot data on axs[1, 1]\n",
    "axs[1, 1].set_title(r'$cos^2(x)$') \n",
    "\n",
    "\n",
    "fig.suptitle('Trigonometric functions') # add figure titles\n",
    "fig.supxlabel(r'$x$')\n",
    "fig.supylabel(r'$f(x)$')\n",
    "\n",
    "fig.tight_layout() # tidy the layout\n",
    "\n",
    "\n",
    "plt.show()"
   ]
  },
  {
   "cell_type": "markdown",
   "metadata": {},
   "source": [
    "## 🏋️‍♀️ PRACTICE"
   ]
  },
  {
   "cell_type": "code",
   "execution_count": null,
   "metadata": {},
   "outputs": [],
   "source": [
    "# Q4: Reproduce the figure below using object oriented matplotlib\n",
    "\n",
    "songstreams = pd.read_csv('data/songs_data.csv')\n",
    "\n",
    "plt.figure()\n",
    "plt.hist(songstreams['streams'], bins=20)\n",
    "plt.title('Distribution of Top 200 Spotify Streamed Songs')\n",
    "plt.xlabel('Number of Streams')\n",
    "plt.ylabel('Count')\n",
    "plt.show()\n"
   ]
  },
  {
   "cell_type": "code",
   "execution_count": null,
   "metadata": {},
   "outputs": [],
   "source": [
    "# Q5: Reproduce the figure below using pyplot\n",
    "\n",
    "monkeypox = pd.read_csv('data/owid-monkeypox-data.csv')\n",
    "monkeypox['date'] = pd.to_datetime(monkeypox['date'])\n",
    "\n",
    "fig, ax = plt.subplots(figsize=(9,5))\n",
    "for country in monkeypox.columns[1:]:\n",
    "    ax.plot(monkeypox['date'], monkeypox[country], label=country)\n",
    "    \n",
    "ax.set_yscale('log')\n",
    "ax.set_ylim(0.1, 1000)\n",
    "ax.legend(loc=4)\n",
    "ax.set_xlabel('Date')\n",
    "ax.set_ylabel('Number of New Cases (7 Day Rolling Average)')\n",
    "ax.set_title('Monkeypox Cases in DE, UK, US')\n",
    "\n",
    "plt.show()"
   ]
  },
  {
   "cell_type": "code",
   "execution_count": null,
   "metadata": {},
   "outputs": [],
   "source": [
    "# Q6: Use object oriented matplotlib to reproduce the figure in the image below\n",
    "# Hint: you may need to use the hist 'orientation' argument\n",
    "\n",
    "gdplifex = pd.read_csv('data/GDPxLife.csv')"
   ]
  },
  {
   "cell_type": "markdown",
   "metadata": {},
   "source": [
    "![gdplifex](figs/gdplifex.svg \"gdplifex\")"
   ]
  },
  {
   "cell_type": "markdown",
   "metadata": {},
   "source": [
    "## Customising plots and figures\n",
    "* We can specify many plot features such as color, size, shape, opacity, fonts to make our figures shine.\n",
    "* We can also encode more dimensions of information in these features."
   ]
  },
  {
   "cell_type": "code",
   "execution_count": null,
   "metadata": {},
   "outputs": [],
   "source": [
    "# We can set fixed values for various features \n",
    "\n",
    "plt.figure()\n",
    "plt.scatter([2,3,4,7,10,12], [1,4,5,9,4,2], s=100, c='r', marker='+')\n",
    "plt.plot([1,2,5,8,9,14], [2,4,2,7,8,5], ls=':', lw='5', marker='o', ms=10)\n",
    "plt.hist([1,1,3,4,5,6,3,3,5,3,7,7,2,12,1,4,9,8,7,9,8,10], alpha=0.4)\n",
    "plt.show()"
   ]
  },
  {
   "cell_type": "code",
   "execution_count": null,
   "metadata": {},
   "outputs": [],
   "source": [
    "# We can also encode information in the color, size, shape, opacity, etc... of points\n",
    "\n",
    "data = {'age': [10, 13, 16, 18, 21, 25],\n",
    "        'height': [140, 150, 160, 167, 168, 168],\n",
    "        'weight': [32, 40, 80, 120, 102, 152],\n",
    "        'score':[0, 6, 21, 9, 15, 25]}\n",
    "\n",
    "\n",
    "# Equivalent plot\n",
    "plt.figure()\n",
    "plt.scatter(data['age'], data['height'], c=data['score'], s=data['weight']) # custom color and size\n",
    "plt.colorbar() # add colorbar\n",
    "plt.show()"
   ]
  },
  {
   "cell_type": "markdown",
   "metadata": {},
   "source": [
    "### Frequently used plotting arguments\n",
    "\n",
    "\n",
    "\n",
    "| Argument | Meaning | Value | [`plt.plot`](https://matplotlib.org/stable/api/_as_gen/matplotlib.pyplot.plot.html) | [`plt.scatter`](https://matplotlib.org/stable/api/_as_gen/matplotlib.pyplot.scatter.html) | [`plt.hist`](https://matplotlib.org/stable/api/_as_gen/matplotlib.pyplot.hist.html) | [`plt.bar`](https://matplotlib.org/stable/api/_as_gen/matplotlib.pyplot.bar.html) |\n",
    "| -------- | ------- | ----- | ---------- | ------------- | ---------- | --------- |\n",
    "| `alpha`  | opacity | float 0-1 | ✅ | ✅ | ✅ | ✅ | \n",
    "| `c`      | color | float / str / rgb / more... | ✅ | ✅ | ✅ | ✅ |\n",
    "| `ls`     | linestyle | {'-', '--', '-.', ...} | ✅ | ❌ | ✅ | ✅ |\n",
    "| `lw`     | linewidth | float | ✅ | ❌ | ✅ | ✅ |\n",
    "| `marker` | marker style        | {'o', 'v', '^', ...} | ✅ | ✅ | ❌ | ❌ |\n",
    "| `ms`     | marker size | float | ✅ | ❌ | ❌ | ❌ |\n",
    "| `s`\t   | point size | float | ❌ | ✅ | ❌ | ❌ |"
   ]
  },
  {
   "cell_type": "markdown",
   "metadata": {},
   "source": [
    "We can also set a fixed theme for all plots in a document with `plt.style.use()`, e.g.:"
   ]
  },
  {
   "cell_type": "code",
   "execution_count": null,
   "metadata": {},
   "outputs": [],
   "source": [
    "plt.style.use('ggplot') # try bmh, fivethirtyeight, many more...\n",
    "\n",
    "plt.figure(figsize = (10,5)) # specify figure size\n",
    "\n",
    "plt.subplot(1, 2, 1) # Create subplots with 1 row, 2 columns, and plot on axes 1\n",
    "plt.plot([1,2,4,8,9,13], [0,5,6,7,10,5])\n",
    "plt.title('This is a title for axes 1') # separate labels for axes 1\n",
    "plt.xlabel('This is a x axis label for axes 1')\n",
    "plt.ylabel('This is a y axis label for axes 1')\n",
    "\n",
    "plt.subplot(1, 2, 2)  # address subplots with 1 row, 2 columns, and plot on axes 2\n",
    "plt.scatter([2,3,4,7,10,12], [1,4,5,9,4,2])\n",
    "plt.plot([1,2,5,8,9,14], [2,4,2,7,8,5])\n",
    "plt.title('This is a title for axes 2') # separate labels for axes 2\n",
    "plt.xlabel('This is a x axis label for axes 2')\n",
    "plt.ylabel('This is a y axis label for axes 2')\n",
    "\n",
    "plt.suptitle('This is a super title') # add a 'super title'\n",
    "plt.tight_layout()\n",
    "plt.show()"
   ]
  },
  {
   "cell_type": "markdown",
   "metadata": {},
   "source": [
    "## 🏋️‍♀️ PRACTICE"
   ]
  },
  {
   "cell_type": "code",
   "execution_count": null,
   "metadata": {},
   "outputs": [],
   "source": [
    "# Q7: Reproduce as close as you can the figure in the image below\n",
    "# Data is from climatechange.csv\n",
    "\n"
   ]
  },
  {
   "cell_type": "markdown",
   "metadata": {},
   "source": [
    "![Global temperature](figs/globaltemp.svg \"Global temperature\")"
   ]
  },
  {
   "cell_type": "code",
   "execution_count": null,
   "metadata": {},
   "outputs": [],
   "source": [
    "# Q8: Read the data in worldbankdata.h5.\n",
    "# The dataframe contains yearly measures (1980-2020) of 6 population level measures:\n",
    "# 'Access to electricity (% of population)',\n",
    "# 'CO2 emissions (metric tons per capita)',\n",
    "# 'Urban population (% of total population)',\n",
    "# 'Population growth (annual %)',\n",
    "# 'Renewable energy consumption (% of total final energy consumption)',\n",
    "# 'Energy use (kg of oil equivalent per capita)'\n",
    "#\n",
    "# Plot whatever elements you see fit on a single Axes.\n",
    "# Clearly not all information can be visualised in a single plot, so make choices about the\n",
    "# year(s), country(s), indicator(s) you find interesting.\n"
   ]
  },
  {
   "cell_type": "markdown",
   "metadata": {},
   "source": [
    "## Attractive plots with Seaborn\n",
    "* Seaborn is a library that builds on matplotlib by automating the appearance and creation of important plot elements.\n",
    "* Seaborn also tightly integrates with pandas.\n",
    "* Some functionality in seaborn is similar to what you may have seen in ggplot2 for R.\n",
    "* Again, lots of good documentation, examples, and tutorials [here](https://seaborn.pydata.org/)."
   ]
  },
  {
   "cell_type": "markdown",
   "metadata": {},
   "source": [
    "Seaborn possesses both **figure**-level functions and **axes**-level functions.\n",
    "* Figure-level functions automate a  lot of the plotting, and can generate plots across several axes.\n",
    "* Axes-level functions are like-for-like replacements for matplotlib functions like `hist`, `scatter`, `plot`.\n",
    "\n",
    "![Figure axes](figs/figaxes.png \"Figure axes\")"
   ]
  },
  {
   "cell_type": "code",
   "execution_count": null,
   "metadata": {},
   "outputs": [],
   "source": [
    "# Let's try a few axes-level functions, used just like the matplotlib variants\n",
    "\n",
    "import seaborn as sns\n",
    "plt.style.use('default')\n",
    "\n",
    "songstreams = pd.read_csv('data/songs_data.csv')\n",
    "\n",
    "# Pyplot style\n",
    "plt.figure()\n",
    "sns.histplot(songstreams['streams']) # seaborn's version of plt.hist()\n",
    "plt.show()"
   ]
  },
  {
   "cell_type": "code",
   "execution_count": null,
   "metadata": {},
   "outputs": [],
   "source": [
    "# Read and clean data\n",
    "monkeypox = pd.read_csv('data/owid-monkeypox-data.csv')\n",
    "monkeypox['date'] = pd.to_datetime(monkeypox['date'])\n",
    "monkeypox = monkeypox.set_index('date')\n",
    "\n",
    "# Object-oriented style plot\n",
    "\n",
    "fig, ax = plt.subplots(figsize=(10,5))\n",
    "ax = sns.lineplot(data=monkeypox) # seaborn's version of plt.plot()\n",
    "plt.show()"
   ]
  },
  {
   "cell_type": "code",
   "execution_count": null,
   "metadata": {
    "scrolled": false
   },
   "outputs": [],
   "source": [
    "# Seaborn handles labelled data quite neatly.\n",
    "# Seaborn likes using long form data from pandas, so lets reshape\n",
    "monkeypox_long = pd.melt(monkeypox.reset_index(), value_vars=['Germany', 'United Kingdom', 'United States'],\n",
    "                        id_vars='date', var_name='Country', value_name='Rolling case number')\n",
    "\n",
    "display(monkeypox_long)\n",
    "\n",
    "# Object-oriented style plot\n",
    "fig, ax = plt.subplots(figsize=(10,5))\n",
    "ax = sns.lineplot(data=monkeypox_long, x='date', y='Rolling case number', hue='Country') # plotting labelled data\n",
    "ax.set_title('We can set titles, labels, etc just like in matplotlib')\n",
    "plt.show()"
   ]
  },
  {
   "cell_type": "code",
   "execution_count": null,
   "metadata": {},
   "outputs": [],
   "source": [
    "# Now lets look at some figure level functions\n",
    "\n",
    "# Load the GDP / life expectancy data\n",
    "gdplifex = pd.read_csv('data/GDPxLife.csv')\n",
    "\n",
    "# figure level functions create the whole figure and any necessary axes\n",
    "sns.jointplot(data=gdplifex, x='GDP per capita', y='Life expectancy')\n",
    "plt.show()"
   ]
  },
  {
   "cell_type": "markdown",
   "metadata": {},
   "source": [
    "Seaborn's figure-level functions typically return a \"`FacetGrid`\" object which is a bundle of the matplotlib Figure object, Axes objects, and some Seaborn specific objects/methods.\n",
    "This is important to understand when integrating Seaborn with object-oriented matplotlib."
   ]
  },
  {
   "cell_type": "code",
   "execution_count": null,
   "metadata": {},
   "outputs": [],
   "source": [
    "# Load a dataset on taxi journeys (lots of interesting columns!)\n",
    "taxis = sns.load_dataset(\"taxis\")\n",
    "display(taxis)"
   ]
  },
  {
   "cell_type": "code",
   "execution_count": null,
   "metadata": {
    "scrolled": false
   },
   "outputs": [],
   "source": [
    "# Figure-level function in object-oriented style\n",
    "\n",
    "# long form, labelled data, lets vary data by, color (hue), column \n",
    "g = sns.relplot(data=taxis, x='distance', y='total', hue='color', col='payment',\n",
    "            s=5, alpha=0.3, palette={'green':'g', 'yellow':'y'})\n",
    "\n",
    "g.set_titles(col_template=\"{col_name} payment\") # Use Seaborn to set Axes titles across columns\n",
    "g.set_axis_labels(\"Journey distance (miles)\", \"Journey total price ($)\") # Use Seaborn to set axis labels\n",
    "\n",
    "g.fig.suptitle(\"My super title\", y=1.05) # Access the matplotlib fig object in the FacetGrid and add suptitle\n",
    "g.legend.set(title=\"Taxi Color\") # Access the matplotlib legend object in the FacetGrid and set title\n",
    "\n",
    "g.axes[0, 0].text(15, 125, 'Text demo') # Access the first row first col matplotlib Axes and add some text\n",
    "\n",
    "plt.show()"
   ]
  },
  {
   "cell_type": "code",
   "execution_count": null,
   "metadata": {},
   "outputs": [],
   "source": [
    "# lmplot is a cool function that automatically plots a linear regressuion fit line with your data\n",
    "\n",
    "g = sns.lmplot(data=taxis, x='distance', y='total', hue='color', col='payment',\n",
    "               palette={'green':'g', 'yellow':'y'}, scatter_kws={\"s\": 2, \"alpha\":0.3})\n",
    "\n",
    "g.set_titles(col_template=\"{col_name} payment\") # Use Seaborn to set Axes titles across columns\n",
    "g.set_axis_labels(\"Journey distance (miles)\", \"Journey total price ($)\") # Use Seaborn to set axis labels\n",
    "\n",
    "g.fig.suptitle(\"My super title\", y=1.05) # Access the matplotlib fig object in the FacetGrid and add suptitle\n",
    "g.legend.set(title=\"Taxi Color\") # Access the matplotlib legend object in the FacetGrid and set title\n",
    "\n",
    "\n",
    "plt.show()"
   ]
  },
  {
   "cell_type": "markdown",
   "metadata": {},
   "source": [
    "## 🏋️‍♀️ PRACTICE"
   ]
  },
  {
   "cell_type": "code",
   "execution_count": null,
   "metadata": {},
   "outputs": [],
   "source": [
    "# Q9: Use a **figure-level** plot from seaborn to plot data of choice from the NY taxis dataset\n",
    "# Feel free to transform the data beforehand (e.g., creating a new column, aggregating)\n",
    "# (relplot, displot, catplot, lmplot, pairplot, jointplot...)\n"
   ]
  }
 ],
 "metadata": {
  "celltoolbar": "Slideshow",
  "kernelspec": {
   "display_name": "Python 3 (ipykernel)",
   "language": "python",
   "name": "python3"
  },
  "language_info": {
   "codemirror_mode": {
    "name": "ipython",
    "version": 3
   },
   "file_extension": ".py",
   "mimetype": "text/x-python",
   "name": "python",
   "nbconvert_exporter": "python",
   "pygments_lexer": "ipython3",
   "version": "3.7.7"
  }
 },
 "nbformat": 4,
 "nbformat_minor": 2
}
