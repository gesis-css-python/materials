{
 "cells": [
  {
   "cell_type": "markdown",
   "metadata": {
    "slideshow": {
     "slide_type": "slide"
    }
   },
   "source": [
    "### GESIS Fall Seminar in Computational Social Science 2022\n",
    "### Introduction to Computational Social Science with Python\n",
    "# Day 1-3: Introduction to Programming with Python"
   ]
  },
  {
   "cell_type": "markdown",
   "metadata": {
    "slideshow": {
     "slide_type": "slide"
    }
   },
   "source": [
    "## Overview\n",
    "\n",
    "* Programming languages\n",
    "* About Python\n",
    "* Scalars: `int`, `float`, `bool`, `None`\n",
    "    * Operators: arithmetic, boolean, comparison, assignment, membership\n",
    "* Non-scalars: `list`, `tuple`, `str`, `set`, `dict`\n",
    "    * Methods\n",
    "    * Ordered vs. unordered non-scalars       \n",
    "    * Mutable vs. immutable non-scalars\n",
    "* Debugging\n"
   ]
  },
  {
   "cell_type": "markdown",
   "metadata": {
    "slideshow": {
     "slide_type": "slide"
    }
   },
   "source": [
    "## Programming Languages\n",
    "\n",
    "A programming language is a formal language used to specify a set of instructions for a computer to execute. It has:\n",
    "\n",
    "* Primitive constructs – literals (chracters, numbers) and operators\n",
    "* Syntax – rules for putting primitives together\n",
    "* Static semantics – rules for forming meaningful commands\n",
    "* Semantics – the meaning of commands"
   ]
  },
  {
   "cell_type": "markdown",
   "metadata": {
    "slideshow": {
     "slide_type": "slide"
    }
   },
   "source": [
    "## Markup vs. Programming Languages\n",
    "\n",
    "\n",
    "|              | Markup Languages | Programming Languages   \n",
    "| :----------- |:---------------- | :----------------------\n",
    "|  |![Markup languages](figs/markup_lang.png \"Markup languages\") | ![Programming languages](figs/program_lang.png \"Programming languages\")\n",
    "| **Examples** | TeX, HTML, XML, **Markdown**   | C, Java, JavaScript, **Python**, R            \n",
    "| **Use**      | Structure and present data | Transform and generate data  \n",
    "| **Execution**| Program (e.g. a browser)   | Computer hardware \n",
    "| **Structure**| Inline tags    | Primitive constructs, syntax, static semantics, semantics \n",
    "\n",
    "(Image sources: Wikimedia)"
   ]
  },
  {
   "cell_type": "markdown",
   "metadata": {
    "id": "mgGLZ5JJ58C6",
    "slideshow": {
     "slide_type": "slide"
    }
   },
   "source": [
    "## Why Python?\n",
    "\n",
    "![Python](figs/python.png \"Python\")\n",
    "\n",
    "* Open-source – free and well-documented\n",
    "* Simple and concise syntax\n",
    "* Many useful libraries\n",
    "* Cross-platform\n",
    "* [Widely used in industry and science](https://youtu.be/cKzP61Gjf00)"
   ]
  },
  {
   "cell_type": "markdown",
   "metadata": {
    "id": "8byM3tEo58C7",
    "slideshow": {
     "slide_type": "slide"
    }
   },
   "source": [
    "# Objects, Data Types, and Expressions\n",
    "\n",
    "* Computer programs manipulate data in the form of objects\n",
    "* Objects have types\n",
    "  * Scalar — indivisible\n",
    "  * Non-scalar — with internal structure, can be ordered/unordered and mutable/immutable\n",
    "* We can do things with objects\n",
    "    * Use variables to associate them with names\n",
    "    * Combine objects and operators to evaluate expressions\n",
    "    * Call methods on objects\n",
    "    * Pass objects to functions"
   ]
  },
  {
   "cell_type": "markdown",
   "metadata": {
    "id": "I20-kNbm58C8",
    "slideshow": {
     "slide_type": "slide"
    }
   },
   "source": [
    "## Data Types in Python\n",
    "\n",
    "\n",
    "| Type     | Scalar     | Mutability | Order   \n",
    "| :------: |:----------:|:----------:| :---------:\n",
    "| `int`    | scalar     | immutable  |             \n",
    "| `float`  | scalar     | immutable  |  \n",
    "| `bool`   | scalar     | immutable  | \n",
    "| `None`   | scalar     | immutable  | \n",
    "| `str`    | non-scalar | immutable  | ordered\n",
    "| `tuple`  | non-scalar | immutable  | ordered\n",
    "| `list`   | non-scalar | mutable    | ordered\n",
    "| `set`    | non-scalar | mutable    | unordered\n",
    "| `dict`   | non-scalar | mutable    | unordered"
   ]
  },
  {
   "cell_type": "markdown",
   "metadata": {
    "id": "rEwA8Ixs58C8",
    "slideshow": {
     "slide_type": "slide"
    }
   },
   "source": [
    "## Scalar Data Types\n",
    "\n",
    "* Integer\n",
    "* Float\n",
    "* Boolean\n",
    "* NoneType"
   ]
  },
  {
   "cell_type": "code",
   "execution_count": 38,
   "metadata": {
    "id": "wDxzKZ5H58C8",
    "outputId": "1541f961-2775-4cc2-9a2b-e5153d01a4aa",
    "slideshow": {
     "slide_type": "-"
    }
   },
   "outputs": [
    {
     "name": "stdout",
     "output_type": "stream",
     "text": [
      "None\n"
     ]
    }
   ],
   "source": [
    "a = 34\n",
    "b = None\n",
    "print(b)"
   ]
  },
  {
   "cell_type": "markdown",
   "metadata": {
    "id": "1yKKIybS58C-",
    "slideshow": {
     "slide_type": "slide"
    }
   },
   "source": [
    "## Non-Scalar Data Types\n",
    "\n",
    "* String – sequence of characters (immutable, ordered)\n",
    "* List – sequence of values (mutable, ordered)\n",
    "* Tuple – sequence of values (immutable, ordered)\n",
    "* Set – collection of unique values (mutable, unordered)\n",
    "* Dictionary – a set of key/value pairs (mutable, unordered)"
   ]
  },
  {
   "cell_type": "code",
   "execution_count": 41,
   "metadata": {
    "id": "VF2yP-gB58C-",
    "outputId": "0a1939f7-6621-4516-819a-2c0e1fb7d118",
    "slideshow": {
     "slide_type": "-"
    }
   },
   "outputs": [
    {
     "name": "stdout",
     "output_type": "stream",
     "text": [
      "{1, 2, 3, 4, 5}\n"
     ]
    }
   ],
   "source": [
    "ls = [1, 2, 3, 4]\n",
    "dc = {'a': 1, 'b': 2}\n",
    "tu = ((1,2), 2, 3, 4, 5)\n",
    "st = {4, 1, 2, 3, 4, 5, 5, 5, 4}\n",
    "print(st)"
   ]
  },
  {
   "cell_type": "markdown",
   "metadata": {
    "id": "6cv4fdIA58C-",
    "slideshow": {
     "slide_type": "slide"
    }
   },
   "source": [
    "## Using Operators with Objects\n",
    "\n",
    "* Arithmetic: `+`, `-`, `*`, `/`, `**` exponent, `%` modulus, `//` floor division\n",
    "* Boolean: `and`, `or`, `not`\n",
    "* Comparison: `==`, `!=` does not equal, `>`, `<=`\n",
    "* Assignment: `=` , `+=`, `-=`\n",
    "* Membership: `in`"
   ]
  },
  {
   "cell_type": "code",
   "execution_count": 45,
   "metadata": {
    "id": "uBUte-UG58C-",
    "outputId": "40c1ab10-6e27-49b4-b4d1-6cf72bcf8d82",
    "slideshow": {
     "slide_type": "fragment"
    }
   },
   "outputs": [
    {
     "data": {
      "text/plain": [
       "'aaa2'"
      ]
     },
     "execution_count": 45,
     "metadata": {},
     "output_type": "execute_result"
    }
   ],
   "source": [
    "# Note that the arithmetic operators + and * have different meanings \n",
    "# depending on the types of objects with which they are used\n",
    "\n",
    "3*'a' + '2'"
   ]
  },
  {
   "cell_type": "code",
   "execution_count": 51,
   "metadata": {
    "id": "4UQQzJ0J58C_",
    "outputId": "82bd49a3-50d6-480d-d3e3-3e63ca1e7c55",
    "slideshow": {
     "slide_type": "fragment"
    }
   },
   "outputs": [
    {
     "data": {
      "text/plain": [
       "False"
      ]
     },
     "execution_count": 51,
     "metadata": {},
     "output_type": "execute_result"
    }
   ],
   "source": [
    "# Boolean operators return bool\n",
    "\n",
    "False or False"
   ]
  },
  {
   "cell_type": "code",
   "execution_count": 57,
   "metadata": {
    "id": "R9EpnGoO58C_",
    "outputId": "9da89f7b-b770-4e01-ef0c-7af2299f50bb",
    "slideshow": {
     "slide_type": "fragment"
    }
   },
   "outputs": [
    {
     "data": {
      "text/plain": [
       "False"
      ]
     },
     "execution_count": 57,
     "metadata": {},
     "output_type": "execute_result"
    }
   ],
   "source": [
    "# Assignment vs. test for equality\n",
    "\n",
    "a = 2\n",
    "a += 4 # a = a + 4\n",
    "a\n",
    "\n",
    "b = [1, 2, 3, 4]\n",
    "5 in b"
   ]
  },
  {
   "cell_type": "markdown",
   "metadata": {
    "id": "AIL8RYxj58C_",
    "slideshow": {
     "slide_type": "slide"
    }
   },
   "source": [
    "## Unordered Types vs. Sequences\n",
    "\n",
    "* Unordered types: `set`, `dict`\n",
    "* Ordered types (sequences): `str`, `list`, `tuple`\n",
    "  "
   ]
  },
  {
   "cell_type": "code",
   "execution_count": 58,
   "metadata": {
    "id": "Wn2DlcLH58C_",
    "outputId": "1f015b42-7f37-4e2a-eeb0-2cadcc6c2752",
    "slideshow": {
     "slide_type": "-"
    }
   },
   "outputs": [
    {
     "name": "stdout",
     "output_type": "stream",
     "text": [
      "{1, 2, 'b', 'a'}\n"
     ]
    }
   ],
   "source": [
    "st = {1, 2, 2, 'a', 'b'} # sets are unordered\n",
    "print(st)"
   ]
  },
  {
   "cell_type": "markdown",
   "metadata": {
    "id": "GbKErSqV58C_",
    "slideshow": {
     "slide_type": "slide"
    }
   },
   "source": [
    "## Dictionary Operations: Indexing\n",
    "\n",
    "* Dictionaries are indexed by keys"
   ]
  },
  {
   "cell_type": "code",
   "execution_count": 59,
   "metadata": {
    "id": "9rSzThuM58DA",
    "outputId": "2abbbf6a-dbf7-4d73-d820-5826b9c2cfbf",
    "slideshow": {
     "slide_type": "-"
    }
   },
   "outputs": [
    {
     "data": {
      "text/plain": [
       "'waitress'"
      ]
     },
     "execution_count": 59,
     "metadata": {},
     "output_type": "execute_result"
    }
   ],
   "source": [
    "mydic = {'Howard': 'aerospace engineer', 'Leonard': 'physicist', 'Sheldon': 'physicist', \n",
    "         'Penny': 'waitress', 'Raj': 'astrophysicist'}\n",
    "\n",
    "mydic['Penny']"
   ]
  },
  {
   "cell_type": "markdown",
   "metadata": {
    "id": "hralW8XF58DA",
    "slideshow": {
     "slide_type": "slide"
    }
   },
   "source": [
    "## Sequence Operations: Indexing and Slicing\n",
    "\n",
    "* Lists, tuples, and strings are indexed by numbers. **Indexing in Python starts from 0!**\n",
    "* Use `seq[index]` to extract individual elements\n",
    "* Use `seq[start:end]` to get sub-sequence starting from index `start` and ending at index `end-1`\n",
    "* Use `seq[start:end:step]` to get sub-sequence starting from index `start`, in steps of `step`, ending at index `end-1`"
   ]
  },
  {
   "cell_type": "code",
   "execution_count": 70,
   "metadata": {
    "id": "Kiu-VXMT58DA",
    "outputId": "0b23f874-e162-4abb-9778-a52de8f5e42b",
    "slideshow": {
     "slide_type": "-"
    }
   },
   "outputs": [
    {
     "data": {
      "text/plain": [
       "' '"
      ]
     },
     "execution_count": 70,
     "metadata": {},
     "output_type": "execute_result"
    }
   ],
   "source": [
    "st = 'some string'\n",
    "print(st[3]) # get element at index 3 (the fourth element)\n",
    "print(st[::2]) # get elements with even indeces\n",
    "print(st[::-1]) # get elements in reverse order"
   ]
  },
  {
   "cell_type": "markdown",
   "metadata": {
    "id": "IT1Vcb_858DE",
    "slideshow": {
     "slide_type": "slide"
    }
   },
   "source": [
    "## 🏋️‍♀️ PRACTICE\n"
   ]
  },
  {
   "cell_type": "code",
   "execution_count": null,
   "metadata": {
    "slideshow": {
     "slide_type": "-"
    }
   },
   "outputs": [],
   "source": [
    "# Q1: Make three new strings from the first and last, \n",
    "# second and second to last, and third and third to last letters \n",
    "# in the string below. Print the three strings.\n",
    "\n",
    "p = 'redder'\n"
   ]
  },
  {
   "cell_type": "markdown",
   "metadata": {
    "id": "HXLXeVdU58DB",
    "slideshow": {
     "slide_type": "slide"
    }
   },
   "source": [
    "## Evaluating Functions with Objects \n",
    "\n",
    "### `function(object)`\n",
    "\n",
    "* Use the name of a type to convert values to that type\n",
    "* `len()` – returns the length of the sequence or collection\n",
    "* `max()` – returns the largest element\n",
    "* `sum()` – returns the sum of all elements"
   ]
  },
  {
   "cell_type": "code",
   "execution_count": 86,
   "metadata": {
    "id": "stBpcKeE58DB",
    "outputId": "7bdc128d-3d18-4fb7-8513-77916b4bf04a",
    "slideshow": {
     "slide_type": "-"
    }
   },
   "outputs": [
    {
     "data": {
      "text/plain": [
       "4"
      ]
     },
     "execution_count": 86,
     "metadata": {},
     "output_type": "execute_result"
    }
   ],
   "source": [
    "len({1, 2, 3, 4, 3, 2})\n"
   ]
  },
  {
   "cell_type": "markdown",
   "metadata": {
    "id": "IT1Vcb_858DE",
    "slideshow": {
     "slide_type": "slide"
    }
   },
   "source": [
    "## 🏋️‍♀️ PRACTICE\n"
   ]
  },
  {
   "cell_type": "code",
   "execution_count": null,
   "metadata": {
    "slideshow": {
     "slide_type": "-"
    }
   },
   "outputs": [],
   "source": [
    "# Q2: Use set() and len() to count the number of unique letters\n",
    "# in the string below\n",
    "\n",
    "s = 'jackie will budget for the most expensive zoology equipment'\n"
   ]
  },
  {
   "cell_type": "markdown",
   "metadata": {
    "id": "LcGo51vd58DB",
    "slideshow": {
     "slide_type": "slide"
    }
   },
   "source": [
    "## Calling Methods on Objects\n",
    "\n",
    "### `object.method()`\n",
    "\n",
    "Use the period `.` to link the method to the object."
   ]
  },
  {
   "cell_type": "code",
   "execution_count": 87,
   "metadata": {
    "id": "qMFEMY_g58DB",
    "outputId": "201e1691-dadf-4826-cd9a-2f7f48ca590c",
    "slideshow": {
     "slide_type": "-"
    }
   },
   "outputs": [
    {
     "data": {
      "text/plain": [
       "'HELLO'"
      ]
     },
     "execution_count": 87,
     "metadata": {},
     "output_type": "execute_result"
    }
   ],
   "source": [
    "string1 = 'Hello'\n",
    "\n",
    "string1.upper()"
   ]
  },
  {
   "cell_type": "markdown",
   "metadata": {
    "id": "ZYR-NxeK58DC",
    "slideshow": {
     "slide_type": "slide"
    }
   },
   "source": [
    "## [String Methods](http://docs.python.org/3/library/stdtypes.html#string-methods)\n",
    "\n",
    "* `S.upper()` – change to upper case\n",
    "* `S.lower()` – change to lower case\n",
    "* `S.capitalize()` – capitalize the first word\n",
    "* `S.find(S1)` – return the index of the first instance of input\n",
    "* `S.replace(S1, S2)` – find all instances of S1 and change to S2\n",
    "* `S.strip(S1)` – remove whitespace characters from the beginning and end of a string (useful when reading in from a file)\n",
    "* `S.split(S1)` – split the string into a list\n",
    "* `S.join(L)` – combine the input sequence into a single string"
   ]
  },
  {
   "cell_type": "code",
   "execution_count": 88,
   "metadata": {
    "id": "9blgDawN58DC",
    "outputId": "42e350b2-66dd-421f-a398-7fd239f88436",
    "slideshow": {
     "slide_type": "fragment"
    }
   },
   "outputs": [
    {
     "name": "stdout",
     "output_type": "stream",
     "text": [
      "MAKE ME SCREAM!\n",
      "Make this into a proper sentence.\n",
      "1\n"
     ]
    }
   ],
   "source": [
    "print('Make me scream!'.upper())\n",
    "\n",
    "x = 'make this into a proper sentence'\n",
    "print(x.capitalize() + '.')\n",
    "\n",
    "print('Find the first \"i\" in this sentence.'.find('i'))"
   ]
  },
  {
   "cell_type": "code",
   "execution_count": 92,
   "metadata": {
    "id": "hDOwrfSz58DC",
    "outputId": "ec2516af-2c2a-4057-c7a2-8f5bb1dece6d",
    "slideshow": {
     "slide_type": "fragment"
    }
   },
   "outputs": [
    {
     "data": {
      "text/plain": [
       "'This is a long sentence that we will use as an example.'"
      ]
     },
     "execution_count": 92,
     "metadata": {},
     "output_type": "execute_result"
    }
   ],
   "source": [
    "x = ' This is a long sentence that we will use as an example.\\n'\n",
    "x = x.strip()\n",
    "x\n"
   ]
  },
  {
   "cell_type": "markdown",
   "metadata": {
    "id": "IT1Vcb_858DE",
    "slideshow": {
     "slide_type": "slide"
    }
   },
   "source": [
    "## 🏋️‍♀️ PRACTICE\n"
   ]
  },
  {
   "cell_type": "code",
   "execution_count": null,
   "metadata": {
    "slideshow": {
     "slide_type": "-"
    }
   },
   "outputs": [],
   "source": [
    "# Q3: Remove the trailing white space in the string below, \n",
    "# replace all double spaces with single space, and format to a sentence \n",
    "# with proper punctuation. Print the resulting string.\n",
    "\n",
    "string1 = '  this  is a very badly.  formatted string -  I would  like to make it cleaner\\n'\n"
   ]
  },
  {
   "cell_type": "code",
   "execution_count": null,
   "metadata": {
    "slideshow": {
     "slide_type": "-"
    }
   },
   "outputs": [],
   "source": [
    "# Q4: Convert the string below to a list\n",
    "\n",
    "s = \"['apple', 'orange', 'pear', 'cherry']\"\n"
   ]
  },
  {
   "cell_type": "code",
   "execution_count": null,
   "metadata": {
    "slideshow": {
     "slide_type": "-"
    }
   },
   "outputs": [],
   "source": [
    "# Q5: Reverse the strings below.\n",
    "\n",
    "s1 = 'stressed'\n",
    "s2 = 'drawer'\n"
   ]
  },
  {
   "cell_type": "markdown",
   "metadata": {
    "id": "NcAYddTQ58DD",
    "slideshow": {
     "slide_type": "slide"
    }
   },
   "source": [
    "## Set Methods\n",
    "\n",
    "![Set operations](figs/sets.png \"Set operations\")\n",
    "\n",
    "* `S1.union(S2)`, `S1|S2` — elements in S1 or S2, or both\n",
    "* `S1.intersection(S2)`, `S1&S2` — elements in both S1 and S2\n",
    "* `S1.difference(S2)`, `S1-S2` — elements in S1 but not in S2\n",
    "* `S1.symmetric_difference(S2)`, `S1^S2` — elements in S1 or S2 but not both"
   ]
  },
  {
   "cell_type": "code",
   "execution_count": 99,
   "metadata": {
    "id": "e7nMZDAJ58DD",
    "outputId": "9e06b9c2-12dd-45d7-ff96-f7e53a955445",
    "slideshow": {
     "slide_type": "-"
    }
   },
   "outputs": [
    {
     "data": {
      "text/plain": [
       "{'h', 'i', 'l', 'o', 'p', 'y'}"
      ]
     },
     "execution_count": 99,
     "metadata": {},
     "output_type": "execute_result"
    }
   ],
   "source": [
    "st1 = set('homophily')\n",
    "st2 = set('heterophily')\n",
    "\n",
    "st1 & st2"
   ]
  },
  {
   "cell_type": "markdown",
   "metadata": {
    "id": "l_ootDC058DD",
    "slideshow": {
     "slide_type": "slide"
    }
   },
   "source": [
    "## Mutability\n",
    "\n",
    "* Immutable types: `str`, `tuple`, and all scalars\n",
    "* Mutable types: `list`, `set`, `dict`\n",
    "\n",
    "**Objects of mutable types can be modified once they are created.**"
   ]
  },
  {
   "cell_type": "code",
   "execution_count": 102,
   "metadata": {
    "id": "nY7OoXco58DD",
    "outputId": "cd15030d-b79d-425f-8fac-19196ee07331",
    "slideshow": {
     "slide_type": "-"
    }
   },
   "outputs": [
    {
     "data": {
      "text/plain": [
       "[1, 2, 3, 4, 5]"
      ]
     },
     "execution_count": 102,
     "metadata": {},
     "output_type": "execute_result"
    }
   ],
   "source": [
    "dic = {1:'a', 2:'b'}\n",
    "ls = [5, 4, 1, 3, 2]\n",
    "\n",
    "dic[3] = 'c'\n",
    "dic[1] = 'x'\n",
    "dic\n",
    "\n",
    "ls.sort()\n",
    "ls"
   ]
  },
  {
   "cell_type": "markdown",
   "metadata": {
    "id": "KplbVGc658DD",
    "slideshow": {
     "slide_type": "slide"
    }
   },
   "source": [
    "## [List Methods](http://docs.python.org/3/library/stdtypes.html#mutable-sequence-types)\n",
    "\n",
    "* `L.append(e)`\n",
    "* `L.insert(i, e)`\n",
    "* `L.remove(e)`\n",
    "* `L.extend(L1)`\n",
    "* `L.pop(i)`\n",
    "* `L.sort()`\n",
    "* `L.reverse()`"
   ]
  },
  {
   "cell_type": "code",
   "execution_count": 109,
   "metadata": {
    "id": "-YSxZNJm58DD",
    "outputId": "d21570d2-b161-4628-cabd-410260d872a7",
    "slideshow": {
     "slide_type": "fragment"
    }
   },
   "outputs": [
    {
     "data": {
      "text/plain": [
       "[7, 6, 5, 4, 3, 2, 1]"
      ]
     },
     "execution_count": 109,
     "metadata": {},
     "output_type": "execute_result"
    }
   ],
   "source": [
    "ls1 = [1, 2, 3]\n",
    "ls1.append(4)\n",
    "ls1.extend((5, 6, 7))\n",
    "\n",
    "ls1 = list(reversed(ls1))\n",
    "ls2"
   ]
  },
  {
   "cell_type": "code",
   "execution_count": null,
   "metadata": {
    "id": "aVjVAFBL58DE",
    "outputId": "28017601-2e29-4038-dee7-6bdde66f9566",
    "slideshow": {
     "slide_type": "fragment"
    }
   },
   "outputs": [],
   "source": [
    "mylist = [4, 5, 2, 1, 3]\n",
    "mylist.sort()  # Sorts in-place. It is more efficient but overwrites the input.\n",
    "print(mylist)\n",
    "\n",
    "mylist = [10, 9, 6, 8, 7]\n",
    "sorted(mylist) \n",
    "print(mylist)\n"
   ]
  },
  {
   "cell_type": "markdown",
   "metadata": {
    "id": "s_Jntd-u58DE",
    "slideshow": {
     "slide_type": "slide"
    }
   },
   "source": [
    "## Mutability Can Be Dangerous"
   ]
  },
  {
   "cell_type": "code",
   "execution_count": 113,
   "metadata": {
    "id": "Ka38TNzq58DE",
    "outputId": "907d972c-ffd8-4171-ca90-a394a4506822",
    "slideshow": {
     "slide_type": "-"
    }
   },
   "outputs": [
    {
     "name": "stdout",
     "output_type": "stream",
     "text": [
      "[1, 2, 3, [4, 5, 6, 7]]\n",
      "[1, 2, 3, [4, 5, 6, 7, 8, 9, 10]]\n"
     ]
    }
   ],
   "source": [
    "ls1 = [1, 2, 3]\n",
    "ls2 = [4, 5, 6, 7]\n",
    "\n",
    "ls1.append(ls2)\n",
    "print(ls1)\n",
    "\n",
    "ls2.extend([8, 9, 10])\n",
    "\n",
    "print(ls1)"
   ]
  },
  {
   "cell_type": "markdown",
   "metadata": {
    "id": "PUMFSVxA58DE",
    "slideshow": {
     "slide_type": "slide"
    }
   },
   "source": [
    "## Aliasing vs. Cloning\n",
    "\n",
    "![Aliasing](figs/aliasing.png \"Aliasing\")"
   ]
  },
  {
   "cell_type": "code",
   "execution_count": 115,
   "metadata": {
    "id": "riOVrOK558DE",
    "outputId": "418620ea-e0bb-46ea-f429-2f954be04d06",
    "slideshow": {
     "slide_type": "fragment"
    }
   },
   "outputs": [
    {
     "name": "stdout",
     "output_type": "stream",
     "text": [
      "[3, 2, 1]\n"
     ]
    }
   ],
   "source": [
    "ls1 = [1, 2, 3]\n",
    "ls2 = ls1  # Using [:] is one way to clone\n",
    "\n",
    "ls1.reverse()\n",
    "print(ls2)"
   ]
  },
  {
   "cell_type": "markdown",
   "metadata": {
    "id": "IT1Vcb_858DE",
    "slideshow": {
     "slide_type": "slide"
    }
   },
   "source": [
    "## 🏋️‍♀️ PRACTICE\n"
   ]
  },
  {
   "cell_type": "markdown",
   "metadata": {
    "id": "IT1Vcb_858DE",
    "slideshow": {
     "slide_type": "-"
    }
   },
   "source": [
    "**Q6**: What will the following program print?\n",
    "\n",
    "```\n",
    "ls1 = [1, 2, 3, 4, 5]\n",
    "ls2 = ls1\n",
    "ls2[2] = 0\n",
    "print(ls1)\n",
    "```\n",
    "\n",
    "* (A) `[1, 2, 3, 4, 5]`\n",
    "* (B) `[1, 0, 3, 4, 5]`\n",
    "* (C) `[1, 2, 0, 4, 5]`\n",
    "* (D) `0`"
   ]
  },
  {
   "cell_type": "markdown",
   "metadata": {
    "id": "IT1Vcb_858DE",
    "slideshow": {
     "slide_type": "slide"
    }
   },
   "source": [
    "## 🏋️‍♀️ PRACTICE\n"
   ]
  },
  {
   "cell_type": "code",
   "execution_count": null,
   "metadata": {
    "slideshow": {
     "slide_type": "-"
    }
   },
   "outputs": [],
   "source": [
    "# Q7: Use a list operation to create a list of ten elements, \n",
    "# each of which is '*'\n"
   ]
  },
  {
   "cell_type": "code",
   "execution_count": null,
   "metadata": {
    "slideshow": {
     "slide_type": "-"
    }
   },
   "outputs": [],
   "source": [
    "# Q8: Assign each of the three elements in the list below \n",
    "# to three variables a, b, c\n",
    "ls = [['dogs', 'cows', 'rabbits', 'cats'], 'eat', {'meat', 'grass'}]\n"
   ]
  },
  {
   "cell_type": "code",
   "execution_count": null,
   "metadata": {
    "slideshow": {
     "slide_type": "-"
    }
   },
   "outputs": [],
   "source": [
    "# Q9: Create a new list that contains only unique elements from list x\n",
    "\n",
    "x = [1, 5, 4, 5, 6, 2, 3, 2, 9, 9, 9, 0, 2, 5, 7]\n"
   ]
  },
  {
   "cell_type": "code",
   "execution_count": null,
   "metadata": {
    "slideshow": {
     "slide_type": "-"
    }
   },
   "outputs": [],
   "source": [
    "# Q10: Print the second smallest and the second largest numbers \n",
    "# in this list of unique numbers\n",
    "\n",
    "x = [2, 5, 0.7, 0.2, 0.1, 6, 7, 3, 1, 0, 0.3]\n"
   ]
  },
  {
   "cell_type": "markdown",
   "metadata": {
    "slideshow": {
     "slide_type": "slide"
    }
   },
   "source": [
    "## Computer Bugs\n",
    "\n",
    "![Computer Bug](figs/bug.jpg \"Computer Bug\")\n",
    "\n",
    "The actual first computer bug. On September 9, 1947, Admiral Grace Hopper found this moth trapped on a relay of the Harvard Mark II computer. (Image source: U.S. Naval Historical Center Online Library)"
   ]
  },
  {
   "cell_type": "markdown",
   "metadata": {
    "slideshow": {
     "slide_type": "slide"
    }
   },
   "source": [
    "## What Is Computer Programming Really about?"
   ]
  },
  {
   "cell_type": "markdown",
   "metadata": {
    "slideshow": {
     "slide_type": "-"
    }
   },
   "source": [
    "*99 little bugs in the code,*\n",
    "\n",
    "*99 bugs in the code,*\n",
    "\n",
    "*1 bug fixed...run again,*\n",
    "\n",
    "*100 little bugs in the code...*"
   ]
  },
  {
   "cell_type": "markdown",
   "metadata": {
    "slideshow": {
     "slide_type": "slide"
    }
   },
   "source": [
    "## How to Debug: Two Options\n",
    "\n",
    "1. **Google** the error and find an answer on **Stackoverflow**\n",
    "1. Use **`print()`** systematically"
   ]
  },
  {
   "cell_type": "markdown",
   "metadata": {
    "id": "g2waGDrV58DN",
    "slideshow": {
     "slide_type": "slide"
    }
   },
   "source": [
    "## Learn from Other Programmers\n",
    "\n",
    "![Not sure if I am a good programmer or just good at googling](figs/good_programmer.jpg \"Not sure if I am a good programmer or just good at googling\") "
   ]
  },
  {
   "cell_type": "markdown",
   "metadata": {
    "slideshow": {
     "slide_type": "slide"
    }
   },
   "source": [
    "## Debugging Systematically\n",
    "\n",
    "1. Compare input in successful and failing runs\n",
    "* Formulate a hypothesis\n",
    "* Design an experiment to test the hypothesis; use `print()`\n",
    "* Keep record of your experiment\n",
    "* Repeat"
   ]
  },
  {
   "cell_type": "markdown",
   "metadata": {
    "slideshow": {
     "slide_type": "slide"
    }
   },
   "source": [
    "## After Debugging for Hours...\n",
    "\n",
    "* Stop"
   ]
  },
  {
   "cell_type": "markdown",
   "metadata": {
    "slideshow": {
     "slide_type": "fragment"
    }
   },
   "source": [
    "* Try commenting your code or explaining it to someone else"
   ]
  },
  {
   "cell_type": "markdown",
   "metadata": {
    "slideshow": {
     "slide_type": "fragment"
    }
   },
   "source": [
    "* Sleep on it\n",
    "\n",
    "![Best Debugger](figs/debugging_sleep.png \"Best debugger\")\n",
    "\n",
    "(Image source: Reddit)"
   ]
  }
 ],
 "metadata": {
  "kernelspec": {
   "display_name": "Python 3 (ipykernel)",
   "language": "python",
   "name": "python3"
  },
  "language_info": {
   "codemirror_mode": {
    "name": "ipython",
    "version": 3
   },
   "file_extension": ".py",
   "mimetype": "text/x-python",
   "name": "python",
   "nbconvert_exporter": "python",
   "pygments_lexer": "ipython3",
   "version": "3.9.7"
  }
 },
 "nbformat": 4,
 "nbformat_minor": 2
}
