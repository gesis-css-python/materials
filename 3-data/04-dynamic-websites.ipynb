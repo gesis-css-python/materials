{
 "cells": [
  {
   "cell_type": "markdown",
   "id": "9db70ab1",
   "metadata": {},
   "source": [
    "# Scraping dynamic websites with selenium\n",
    "\n",
    "To install Selenium for Python `conda install -c conda-forge selenium`\n",
    "\n",
    "Driver for Firefox available on Mozilla's GitHub page https://github.com/mozilla/geckodriver/releases\n",
    "\n",
    "Some helpful documentation: https://pypi.org/project/selenium/ (also links to other drivers) and https://selenium-python.readthedocs.io/ (not the official documentation)"
   ]
  },
  {
   "cell_type": "markdown",
   "id": "38b63b91",
   "metadata": {},
   "source": [
    "####  Scraping available programmes at the LSE as an example"
   ]
  },
  {
   "cell_type": "code",
   "execution_count": null,
   "id": "54458b83",
   "metadata": {},
   "outputs": [],
   "source": [
    "from selenium import webdriver\n",
    "from selenium.webdriver.common.keys import Keys\n",
    "from selenium.webdriver.common.by import By\n",
    "from selenium.webdriver.firefox.options import Options\n",
    "from selenium.webdriver.firefox.service import Service\n",
    "import time"
   ]
  },
  {
   "cell_type": "code",
   "execution_count": null,
   "id": "5bd6299c",
   "metadata": {},
   "outputs": [],
   "source": [
    "# For headless mode\n",
    "options = Options()\n",
    "options.headless = False"
   ]
  },
  {
   "cell_type": "code",
   "execution_count": null,
   "id": "a67e4e3b",
   "metadata": {},
   "outputs": [],
   "source": [
    "# Linking the driver (file in the same folder here)\n",
    "service = Service(\"./geckodriver\")\n",
    "driver = webdriver.Firefox(options=options, service=service)"
   ]
  },
  {
   "cell_type": "markdown",
   "id": "0459e2ac",
   "metadata": {},
   "source": [
    "The following code scrapes all programmes that the website associates with a search term. It should best be wrapped into a function, but is left in a simple code block for this notebook to make exploring the objects easier. Also note that for larger scraping projects the XPaths etc. can once be stored in a dictionary and accessed there."
   ]
  },
  {
   "cell_type": "code",
   "execution_count": null,
   "id": "4c9eb17b",
   "metadata": {},
   "outputs": [],
   "source": [
    "# Adjust for other terms\n",
    "search_term = \"Mathematics\"\n",
    "\n",
    "\n",
    "# List to store programme names\n",
    "all_programme_names = []\n",
    "\n",
    "# Go to the website\n",
    "driver.get(\"https://www.lse.ac.uk/Programmes/Search-Courses\")\n",
    "time.sleep(1)\n",
    "\n",
    "# Search for programmes\n",
    "search_box = driver.find_element(By.XPATH, '//*[@id=\"coursesSearch\"]')\n",
    "search_box.clear() # clear box first\n",
    "time.sleep(1)\n",
    "search_box.send_keys(search_term) # enter term\n",
    "time.sleep(1)\n",
    "search_box.send_keys(Keys.RETURN) # press enter\n",
    "time.sleep(4) # needs to be long enough depending on the time the page takes to load,\n",
    "# otherwise no elements might be found\n",
    "\n",
    "# Loop over programmes\n",
    "continue_flag = True\n",
    "while continue_flag == True:\n",
    "\n",
    "    # 10 programme names per page\n",
    "    for i in range(1,11):\n",
    "\n",
    "        # The method find_elements() returns list of length zero if element not found\n",
    "        # instead of an error, this matters here because the final page will often have\n",
    "        # less than 10 elements\n",
    "        elements_found = driver.find_elements(By.XPATH, f\"/html/body/form/main/div/div/div/div[2]/div[1]/article[{i}]/a/header\")\n",
    "        if len(elements_found) == 0:\n",
    "            break # end of final page, break loop over programme titles\n",
    "        elif len(elements_found) > 1:\n",
    "            raise ValueError(\"XPath returned more than one programme; check XPaths\")\n",
    "        else:\n",
    "            all_programme_names.append(elements_found[0].text)\n",
    "\n",
    "        # Scroll to end of page (where the 'next' button is located)\n",
    "        driver.execute_script(\"window.scrollTo(0, document.body.scrollHeight);\")\n",
    "        time.sleep(0.5)\n",
    "        next_button_list = driver.find_elements(By.CLASS_NAME, \"pagination__link--next\") # XPath does not work as well for locating this button consistently\n",
    "        if len(next_button_list) == 0: # no next button anymore / last page\n",
    "            continue_flag = False\n",
    "\n",
    "    if continue_flag == True:\n",
    "        next_button_list[0].click()\n",
    "        \n",
    "all_programme_names = list(set(all_programme_names))\n",
    "all_programme_names"
   ]
  },
  {
   "cell_type": "code",
   "execution_count": null,
   "id": "627be38f",
   "metadata": {},
   "outputs": [],
   "source": [
    "# Quit driver at the end\n",
    "driver.quit()"
   ]
  },
  {
   "cell_type": "code",
   "execution_count": null,
   "id": "e6c44b88",
   "metadata": {},
   "outputs": [],
   "source": []
  }
 ],
 "metadata": {
  "kernelspec": {
   "display_name": "Python 3",
   "language": "python",
   "name": "python3"
  },
  "language_info": {
   "codemirror_mode": {
    "name": "ipython",
    "version": 3
   },
   "file_extension": ".py",
   "mimetype": "text/x-python",
   "name": "python",
   "nbconvert_exporter": "python",
   "pygments_lexer": "ipython3",
   "version": "3.7.7"
  }
 },
 "nbformat": 4,
 "nbformat_minor": 5
}
