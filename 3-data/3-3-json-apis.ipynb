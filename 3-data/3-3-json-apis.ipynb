{
 "cells": [
  {
   "cell_type": "markdown",
   "metadata": {
    "slideshow": {
     "slide_type": "slide"
    }
   },
   "source": [
    "### GESIS Fall Seminar in Computational Social Science 2022\n",
    "### Introduction to Computational Social Science with Python\n",
    "# Day 3-3: JSON and working with APIs"
   ]
  },
  {
   "cell_type": "markdown",
   "metadata": {
    "slideshow": {
     "slide_type": "slide"
    }
   },
   "source": [
    "## Overview\n",
    "\n",
    "* The Anatomy of APIs\n",
    "* Authentication\n",
    "* Pagination"
   ]
  },
  {
   "cell_type": "markdown",
   "metadata": {
    "id": "FTdve28S58DE",
    "slideshow": {
     "slide_type": "slide"
    }
   },
   "source": [
    "## The Anatomy of APIs\n",
    "* **A**pplication **P**rogramming **I**nterfaces allow your code to interact with an external service.\n",
    "* JSON is the widely preferred method of delivering information when querying an API.\n",
    "* We've already seen JSON files and how they can be natively read into dictionary/list structures in Python.\n",
    "* APIs for Twitter, GitHub, Wikipedia, Skyscanner, Alexa, Spotify, etc etc etc"
   ]
  },
  {
   "cell_type": "markdown",
   "metadata": {
    "slideshow": {
     "slide_type": "subslide"
    }
   },
   "source": [
    "### APIs\n",
    "* We will focus on REST (REpresentational State Transfer) APIs, using HTTP requests to query for the data we require.\n",
    "* Essentially, this means constructing URLs with certain keywords, sending it to a service, and receiving back a JSON with the data we need.\n",
    "* Many APIs also have official and unofficial Python packages, where the task of constructing requests is slightly removed from the user."
   ]
  },
  {
   "cell_type": "markdown",
   "metadata": {
    "slideshow": {
     "slide_type": "subslide"
    }
   },
   "source": [
    "### Requests and Responses\n",
    "When we use web APIs, we (the client) construct a request to send to a server, and receive a response from the server.\n",
    "* Requests contain relevant data regarding your API request call:\n",
    "    - **Base URL** - The base web address for the service\n",
    "    - **API endpoint** - The more specific API address\n",
    "    - **HTTP method** - The type of request (see below)\n",
    "    - **Headers** - Metadata like identification info, authentication, preferred response formats\n",
    "    - **Query parameters** - Custom tags to specify the data we require\n",
    "* Responses contain relevant data returned by the server: \n",
    "    - **Content** - The data we requested\n",
    "    - **Status code** - Tells you whether and why the request was successful or not\n",
    "    - **Headers** - Metadata like server info, response encoding\n"
   ]
  },
  {
   "cell_type": "markdown",
   "metadata": {
    "slideshow": {
     "slide_type": "subslide"
    }
   },
   "source": [
    "### HTTP Methods\n",
    "There are several different kinds of requests we can make, depending on how we want to interact with the server.\n",
    "* **GET** - Retrieve information (we only use GET today, and this is what you will mostly use when interacting with APIs)\n",
    "* **POST** - Create new information on the server (e.g. post a tweet)\n",
    "* **PUT** - Modify information on the server (e.g. modify a GitHub repo)\n",
    "* **DELETE** - Delete information information from the server (e.g. delete a file)\n"
   ]
  },
  {
   "cell_type": "markdown",
   "metadata": {
    "slideshow": {
     "slide_type": "subslide"
    }
   },
   "source": [
    "### HTTP Response codes\n",
    "\n",
    "* Success Codes\n",
    "     - **200** OK - Success (common response to GET)\n",
    "     - **201** Created - New resource created (POST/PUT)\n",
    "     - **204** No Content - Success but no content returned (not an issue)\n",
    "\n",
    "* Client Error Codes\n",
    "     - **400** Bad Request - Request not understood due to bad syntax (fix your JSON)\n",
    "     - **401** Unauthorized - Authentication required\n",
    "     - **403** Forbidden - Exists, but not authorised with current authentication\n",
    "     - **404** Not Found - Does not exist\n",
    "\n",
    "* Server Error Codes\n",
    "     - **500** Internal Server Error - there's something wrong with the server"
   ]
  },
  {
   "cell_type": "code",
   "execution_count": null,
   "metadata": {
    "slideshow": {
     "slide_type": "subslide"
    }
   },
   "outputs": [],
   "source": [
    "# Constructing a basic query using the requests library and Random User API\n",
    "# Base url: https://randomuser.me/\n",
    "# Endpoint: api/\n",
    "\n",
    "import requests\n",
    "\n",
    "response = requests.get(\"https://randomuser.me/api/\")"
   ]
  },
  {
   "cell_type": "code",
   "execution_count": null,
   "metadata": {
    "slideshow": {
     "slide_type": "fragment"
    }
   },
   "outputs": [],
   "source": [
    "# Let's see some info about the request we sent\n",
    "request = response.request\n",
    "print(request.url)\n",
    "print(request.path_url)\n",
    "print(request.method)\n",
    "print(request.headers)"
   ]
  },
  {
   "cell_type": "code",
   "execution_count": null,
   "metadata": {
    "scrolled": false,
    "slideshow": {
     "slide_type": "subslide"
    }
   },
   "outputs": [],
   "source": [
    "# Let's see some info about the request we sent\n",
    "\n",
    "print(response.content) # a bytestring of the content\n",
    "print(response.text) # a text string of the content\n",
    "print()\n",
    "print(response.status_code)\n",
    "print()\n",
    "print(response.headers)\n",
    "data = response.json() # Convert the JSON content to a python object"
   ]
  },
  {
   "cell_type": "code",
   "execution_count": null,
   "metadata": {
    "slideshow": {
     "slide_type": "subslide"
    }
   },
   "outputs": [],
   "source": [
    "# We can explore the data that was returned:\n",
    "\n",
    "data"
   ]
  },
  {
   "cell_type": "code",
   "execution_count": null,
   "metadata": {
    "slideshow": {
     "slide_type": "subslide"
    }
   },
   "outputs": [],
   "source": [
    "# Let's construct a query and request a German man\n",
    "# our query parameters here are ?gender=male&nat=de\n",
    "germanman = requests.get(\"https://randomuser.me/api/?gender=male&nat=de\").json()\n",
    "germanman"
   ]
  },
  {
   "cell_type": "markdown",
   "metadata": {
    "slideshow": {
     "slide_type": "subslide"
    }
   },
   "source": [
    "Opening the link in a web browser will return the same content: [https://randomuser.me/api/?gender=male&nat=de](https://randomuser.me/api/?gender=male&nat=de).\n",
    "API documentation frequently has examples and sandboxers where you can try different queries."
   ]
  },
  {
   "cell_type": "code",
   "execution_count": null,
   "metadata": {
    "slideshow": {
     "slide_type": "fragment"
    }
   },
   "outputs": [],
   "source": [
    "# We can alternatively pass a dictionary of parameters\n",
    "parameters = {'gender':'male', 'nat':'de'}\n",
    "\n",
    "germanman = requests.get(\"https://randomuser.me/api/\", params=parameters).json()\n",
    "germanman"
   ]
  },
  {
   "cell_type": "markdown",
   "metadata": {
    "slideshow": {
     "slide_type": "slide"
    }
   },
   "source": [
    "## 🏋️‍♀️ PRACTICE"
   ]
  },
  {
   "cell_type": "code",
   "execution_count": null,
   "metadata": {
    "slideshow": {
     "slide_type": "subslide"
    }
   },
   "outputs": [],
   "source": [
    "# Q1: Use the random user API to generate details of a Canadian woman\n",
    "\n"
   ]
  },
  {
   "cell_type": "code",
   "execution_count": null,
   "metadata": {
    "slideshow": {
     "slide_type": "subslide"
    }
   },
   "outputs": [],
   "source": [
    "# Q2: With a single query, use the random user API to generate details for 10 people\n",
    "# from a random selection of British, German, and French nationalities\n",
    "# How many people from each location are there (calculate using Python)?\n"
   ]
  },
  {
   "cell_type": "markdown",
   "metadata": {
    "slideshow": {
     "slide_type": "slide"
    }
   },
   "source": [
    "## Authentication\n",
    "Many APIs require a level of identification and authentication to use\n",
    "* None - Occasionally a header indicating username/email required or requested.\n",
    "* API Key - Unique text credentials, typically tied to an account with the service. Supplied in the query parameters or headers.\n",
    "* OAuth - Token-based authentication, more sophisticated, supports multi-user apps, controlled access scopes."
   ]
  },
  {
   "cell_type": "code",
   "execution_count": null,
   "metadata": {
    "slideshow": {
     "slide_type": "subslide"
    }
   },
   "outputs": [],
   "source": [
    "# The Wikipedia API doesn't require authentication, but does request identifying info in the user-agent header\n",
    "\n",
    "headers = {'User-Agent': add your username / email / contact details here}\n",
    "\n",
    "# Let's query Wikipedia for the links on the page \"Mannheim\"\n",
    "# https://en.wikipedia.org/wiki/Mannheim\n",
    "\n",
    "url = \"https://en.wikipedia.org/w/api.php\"\n",
    "\n",
    "parameters = {\n",
    "    \"action\": \"query\",\n",
    "    \"titles\": \"Mannheim\",\n",
    "    \"format\":\"json\",\n",
    "    \"prop\": \"links\"}\n",
    "\n",
    "response = requests.get(url=url, params=parameters, headers=headers) # add the headers to the query\n",
    "data = response.json()\n",
    "\n",
    "data"
   ]
  },
  {
   "cell_type": "code",
   "execution_count": null,
   "metadata": {
    "scrolled": true,
    "slideshow": {
     "slide_type": "subslide"
    }
   },
   "outputs": [],
   "source": [
    "# This isn't very many links...\n",
    "# By default only the first 10 links are returned\n",
    "# Let's increase the pllimit parameter to return more\n",
    "\n",
    "parameters = {\n",
    "    \"action\": \"query\",\n",
    "    \"titles\": \"Mannheim\",\n",
    "    \"format\":\"json\",\n",
    "    \"prop\": \"links\",\n",
    "    \"pllimit\":500}\n",
    "\n",
    "response = requests.get(url=url, params=parameters, headers=headers) # add the headers to the query\n",
    "data = response.json()\n",
    "\n",
    "data\n",
    "\n",
    "# Better, but not everything..."
   ]
  },
  {
   "cell_type": "markdown",
   "metadata": {},
   "source": [
    "## Pagination\n",
    "* Due to API rate limits and file sizes, sometimes results are split into different pages.\n",
    "* By default just the first page is returned, but typically the option to continue to the next page is provided with a follow up query.\n",
    "* The exact implementation depends on the API - read the documentation."
   ]
  },
  {
   "cell_type": "code",
   "execution_count": null,
   "metadata": {},
   "outputs": [],
   "source": [
    "# The Wikipedia API returns \"continue\" parameters\n",
    "# If we feed these to a follow up query, we get the next page of results\n",
    "\n",
    "parameters = {\n",
    "    \"action\": \"query\",\n",
    "    \"titles\": \"Mannheim\",\n",
    "    \"format\":\"json\",\n",
    "    \"prop\": \"links\",\n",
    "    \"pllimit\":500,\n",
    "    'plcontinue': '99627|14|Articles_to_be_expanded_from_June_2017',\n",
    "    'continue': '||'}\n",
    "\n",
    "response2 = requests.get(url=url, params=parameters, headers=headers) # add the headers to the query\n",
    "data2 = response2.json()\n",
    "\n",
    "data2\n"
   ]
  },
  {
   "cell_type": "code",
   "execution_count": null,
   "metadata": {
    "scrolled": true
   },
   "outputs": [],
   "source": [
    "# Great, we got everything, but what about articles with many pages?\n",
    "# We need to write a function to automatically cycle through pages...\n",
    "\n",
    "def wikiquery(parameters, headers={}, url=\"https://en.wikipedia.org/w/api.php\"):\n",
    "    result = [] # create list for response data pages\n",
    "    lastcontinue = {} # create placeholder for continue parameters\n",
    "    while True: # keep querying until...\n",
    "        p = parameters.copy() # copy original params\n",
    "        p.update(lastcontinue) # update params with continue parameters\n",
    "        data = requests.get(url=url, params=p, headers=headers).json() # make query and get data\n",
    "        result.append(data['query']) # add query response for page to results list\n",
    "        if 'continue' in data: # if 'continue' param in response, update the continue placeholder, query again \n",
    "            lastcontinue = data['continue']\n",
    "        else: # keep querying until... ...there is no continue parameter in the response\n",
    "            return result\n",
    "        \n",
    "parameters = {\n",
    "    \"action\": \"query\",\n",
    "    \"titles\": \"London\",\n",
    "    \"format\":\"json\",\n",
    "    \"prop\": \"links\",\n",
    "    \"pllimit\":500}\n",
    "\n",
    "data = wikiquery(parameters, headers)\n",
    "\n",
    "data"
   ]
  },
  {
   "cell_type": "markdown",
   "metadata": {
    "slideshow": {
     "slide_type": "slide"
    }
   },
   "source": [
    "## 🏋️‍♀️ PRACTICE"
   ]
  },
  {
   "cell_type": "code",
   "execution_count": null,
   "metadata": {
    "slideshow": {
     "slide_type": "subslide"
    }
   },
   "outputs": [],
   "source": [
    "# Q3: Part of the task of using APIs is in parsing the output.\n",
    "# a) Parse the output from the Wikipedia \"London\" links search above, the output should look like a dictionary:\n",
    "# {'London':['.london' '101 Dalmatians (1996 film)', '10 Downing Street', ...]}\n",
    "# b) Create a function that can do this with any article title\n"
   ]
  },
  {
   "cell_type": "code",
   "execution_count": null,
   "metadata": {
    "slideshow": {
     "slide_type": "subslide"
    }
   },
   "outputs": [],
   "source": [
    "# Q4: Repeat the task of getting all the links on the Mannheim Wikipedia article, but across 10 different languages\n",
    "# e.g. de.wikipedia.org, fr.wikipedia.org, ...\n",
    "# Create a dictionary with the language as keys and the number of links as values\n"
   ]
  },
  {
   "cell_type": "code",
   "execution_count": null,
   "metadata": {
    "slideshow": {
     "slide_type": "subslide"
    }
   },
   "outputs": [],
   "source": [
    "# Q5: Write a query function to get data from all pages of a World Bank API query.\n",
    "# Documentation here: https://datahelpdesk.worldbank.org/knowledgebase/articles/898581-api-basic-call-structures\n",
    "# The mechanism for iterating through pages is different from Wikipedia's!\n",
    "# Test with this API call: http://api.worldbank.org/v2/country/all/indicator/SP.POP.TOTL?date=2020&format=json\n",
    "# You should be able to iterate through all 6 pages of data and save it\n"
   ]
  },
  {
   "cell_type": "markdown",
   "metadata": {
    "slideshow": {
     "slide_type": "slide"
    }
   },
   "source": [
    "### API key authentication\n",
    "* In order to control access to APIs, or allow access to personal user data, services may require you use a unique API key.\n",
    "* You typically need to login to the service website and request a key, which you then add to your HTTP API requests.\n",
    "* Do not share your API key details, or accidentally upload them to GitHub!"
   ]
  },
  {
   "cell_type": "code",
   "execution_count": null,
   "metadata": {
    "slideshow": {
     "slide_type": "subslide"
    }
   },
   "outputs": [],
   "source": [
    "# Sign up for an API key from https://www.omdbapi.com/\n",
    "# Make sure to click the link in the follow-up email to activate your key\n",
    "# It will then take a few minutes to register with the server\n",
    "\n",
    "# The OMDB API asks that we simply send the API key as a parameter:\n",
    "\n",
    "parameters = {'t':'Hackers', 'apikey': type your api key here}\n",
    "\n",
    "data = requests.get('https://www.omdbapi.com/', params=parameters).json()\n",
    "data"
   ]
  },
  {
   "cell_type": "code",
   "execution_count": null,
   "metadata": {
    "slideshow": {
     "slide_type": "subslide"
    }
   },
   "outputs": [],
   "source": [
    "# We don't really want to be sharing our API keys, common practice is to hide them in a .env file\n",
    "# We also want to make sure the .env file is included in the .gitignore, so we don't upload it to github\n",
    "# Create a text file in your current directory with the line OMDB_KEY=[your key]\n",
    "# Be careful of hidden file extensions when saving the .env file\n",
    "\n",
    "import os\n",
    "from dotenv import load_dotenv # you may need to conda install python-dotenv\n",
    "\n",
    "load_dotenv() # reads the .env file\n",
    "\n",
    "API_KEY = os.getenv('OMDB_KEY') # loads the OMDB_KEY as a variable\n",
    "print(API_KEY) # If this correctly prints your key, then it worked. If not, then there is a filename/filepath error.\n",
    "# (You will also want to clear this cell, as the output is saved to the .ipynb file)"
   ]
  },
  {
   "cell_type": "code",
   "execution_count": null,
   "metadata": {
    "slideshow": {
     "slide_type": "subslide"
    }
   },
   "outputs": [],
   "source": [
    "# Run a query with our API key\n",
    "parameters = {'t':'The Net', 'apikey':API_KEY}\n",
    "\n",
    "data = requests.get('https://www.omdbapi.com/', params=parameters).json()\n",
    "data"
   ]
  },
  {
   "cell_type": "markdown",
   "metadata": {
    "slideshow": {
     "slide_type": "subslide"
    }
   },
   "source": [
    "### Bonus API Tips\n",
    "* Be mindful of API limits! This can be on the number of queries and/or rate of queries.\n",
    "* Uncertain page ranges mean while loops are regularly used, but make sure your code doesn't get trapped.\n",
    "* `try`/`except` statements, or conditionals based on the response status code are also useful.\n",
    "* If querying for large amounts of data it is good practice to save progress as the code runs, not all at the end."
   ]
  },
  {
   "cell_type": "markdown",
   "metadata": {
    "slideshow": {
     "slide_type": "slide"
    }
   },
   "source": [
    "## 🏋️‍♀️ PRACTICE"
   ]
  },
  {
   "cell_type": "code",
   "execution_count": null,
   "metadata": {
    "slideshow": {
     "slide_type": "subslide"
    }
   },
   "outputs": [],
   "source": [
    "# Q6: Use OMDB API \"search\" to get all Movie type results for the query \"Lord of the Rings\"\n",
    "# Make sure to go through all pages of results\n"
   ]
  },
  {
   "cell_type": "code",
   "execution_count": null,
   "metadata": {
    "slideshow": {
     "slide_type": "subslide"
    }
   },
   "outputs": [],
   "source": [
    "# Q7: Browse the GitHub list of public APIs:\n",
    "# Select one that requires an API key, sign up to receive an API key (you may want to take Q8 into account).\n",
    "# Explore the documentation and write some of your own queries.\n",
    "# Save the initial JSON data you receive, as well as a cleaned version of the data.\n",
    "\n"
   ]
  },
  {
   "cell_type": "code",
   "execution_count": null,
   "metadata": {
    "slideshow": {
     "slide_type": "subslide"
    }
   },
   "outputs": [],
   "source": [
    "# Q8: Create a dataset by linking information from 2 different APIs.\n",
    "# e.g. country-level weather data from a weather API compared with agricultural data from the World Bank API,\n",
    "# cryptocurrency prices compared to stock prices, Wikipedia page views compared with Steam game store stats, etc...\n",
    "# Clean the data and save it locally.\n",
    "# Can you tell us some basic stats about the data collected?\n"
   ]
  }
 ],
 "metadata": {
  "celltoolbar": "Slideshow",
  "kernelspec": {
   "display_name": "Python 3 (ipykernel)",
   "language": "python",
   "name": "python3"
  },
  "language_info": {
   "codemirror_mode": {
    "name": "ipython",
    "version": 3
   },
   "file_extension": ".py",
   "mimetype": "text/x-python",
   "name": "python",
   "nbconvert_exporter": "python",
   "pygments_lexer": "ipython3",
   "version": "3.7.7"
  }
 },
 "nbformat": 4,
 "nbformat_minor": 2
}
