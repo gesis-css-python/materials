{
 "cells": [
  {
   "cell_type": "markdown",
   "metadata": {
    "slideshow": {
     "slide_type": "slide"
    }
   },
   "source": [
    "### GESIS Fall Seminar in Computational Social Science 2022\n",
    "### Introduction to Computational Social Science with Python\n",
    "# Day 4-2: Manipulating `pandas` DataFrames"
   ]
  },
  {
   "cell_type": "markdown",
   "metadata": {
    "slideshow": {
     "slide_type": "slide"
    }
   },
   "source": [
    "## Overview\n",
    "\n",
    "* Handling different data types\n",
    "* Combining data from different tables\n",
    "* Applying functions to DataFrames\n",
    "* Creating basic plots using `pandas`"
   ]
  },
  {
   "cell_type": "markdown",
   "metadata": {},
   "source": [
    "## Handling different data types\n",
    "* Each column in a pandas DataFrame (or Series) has an assigned data type (`str`, `int`, `float` etc).\n",
    "* This is usually automatically assigned, but you are able to change column data types.\n",
    "* It is possible (though not usually advised) to mix different types of object in the same column. In this case the column data type is \"`object`\"."
   ]
  },
  {
   "cell_type": "markdown",
   "metadata": {},
   "source": [
    "### Reading dtypes"
   ]
  },
  {
   "cell_type": "code",
   "execution_count": null,
   "metadata": {},
   "outputs": [],
   "source": [
    "import pandas as pd\n",
    "\n",
    "songsdf = pd.read_csv('data/songs.csv', index_col=0)\n",
    "wikiviewsdf = pd.read_hdf('data/pageviews_2022.h5')\n",
    "\n",
    "display(songsdf)\n",
    "display(wikiviewsdf)"
   ]
  },
  {
   "cell_type": "code",
   "execution_count": null,
   "metadata": {},
   "outputs": [],
   "source": [
    "songsdf.info()\n",
    "print(songsdf.dtypes)\n",
    "\n",
    "wikiviewsdf.info()\n",
    "print(wikiviewsdf.dtypes)"
   ]
  },
  {
   "cell_type": "markdown",
   "metadata": {},
   "source": [
    "### Converting dtypes"
   ]
  },
  {
   "cell_type": "code",
   "execution_count": null,
   "metadata": {},
   "outputs": [],
   "source": [
    "songsdf['peak_rank'] = songsdf['peak_rank'].astype(float)"
   ]
  },
  {
   "cell_type": "code",
   "execution_count": null,
   "metadata": {},
   "outputs": [],
   "source": [
    "display(wikiviewsdf['date'])\n",
    "display(pd.to_datetime(wikiviewsdf['date']))\n",
    "\n",
    "wikiviewsdf['date'] = pd.to_datetime(wikiviewsdf['date'], format='%Y%m%d')"
   ]
  },
  {
   "cell_type": "code",
   "execution_count": null,
   "metadata": {},
   "outputs": [],
   "source": [
    "display(wikiviewsdf.isnull())\n",
    "\n",
    "display(wikiviewsdf.isnull().sum().sort_values().tail(20))"
   ]
  },
  {
   "cell_type": "code",
   "execution_count": null,
   "metadata": {},
   "outputs": [],
   "source": [
    "display(wikiviewsdf['Stephen Sanchez'].dropna())\n",
    "\n",
    "wikiviewsdf = wikiviewsdf.fillna(0)\n",
    "display(wikiviewsdf)"
   ]
  },
  {
   "cell_type": "markdown",
   "metadata": {},
   "source": [
    "### Operating on columns\n",
    "* We can use many regular Python mathematical, string, date, etc. operations to manipulate data in columns"
   ]
  },
  {
   "cell_type": "code",
   "execution_count": null,
   "metadata": {},
   "outputs": [],
   "source": [
    "songsdf.loc[1]"
   ]
  },
  {
   "cell_type": "code",
   "execution_count": null,
   "metadata": {},
   "outputs": [],
   "source": [
    "# Sum the views of the artists who sang the top song\n",
    "\n",
    "wikiviewsdf['Bizarrap'] + wikiviewsdf['Quevedo']"
   ]
  },
  {
   "cell_type": "code",
   "execution_count": null,
   "metadata": {},
   "outputs": [],
   "source": [
    "# Average views of the artists who sang the top song\n",
    "\n",
    "(wikiviewsdf['Bizarrap'] + wikiviewsdf['Quevedo'])/2"
   ]
  },
  {
   "cell_type": "code",
   "execution_count": null,
   "metadata": {},
   "outputs": [],
   "source": [
    "# String operations\n",
    "# Call string-specific methods with \".str\"\n",
    "\n",
    "display(songsdf['artist_names'] + '!!!')\n",
    "display(songsdf['track_name'].str.upper())\n",
    "display(songsdf['track_name'].str.replace(' ', '_'))\n",
    "display(songsdf['track_name'].str.split())"
   ]
  },
  {
   "cell_type": "code",
   "execution_count": null,
   "metadata": {},
   "outputs": [],
   "source": [
    "# Date operations\n",
    "# Call date-specific methods with \".dt\"\n",
    "\n",
    "import datetime\n",
    "\n",
    "display(wikiviewsdf['date'] - datetime.datetime(2022, 1, 1))\n",
    "\n",
    "display(wikiviewsdf['date'].dt.dayofweek)"
   ]
  },
  {
   "cell_type": "code",
   "execution_count": null,
   "metadata": {},
   "outputs": [],
   "source": [
    "# Let's set the date column as the index\n",
    "wikiviewsdf = wikiviewsdf.set_index('date')\n",
    "display(wikiviewsdf)"
   ]
  },
  {
   "cell_type": "code",
   "execution_count": null,
   "metadata": {},
   "outputs": [],
   "source": [
    "# use 'resample' with 'sum' to get pageviews every 2 Days\n",
    "display(wikiviewsdf.resample('2D').sum())"
   ]
  },
  {
   "cell_type": "markdown",
   "metadata": {},
   "source": [
    "## 🏋️‍♀️ PRACTICE"
   ]
  },
  {
   "cell_type": "code",
   "execution_count": null,
   "metadata": {},
   "outputs": [],
   "source": [
    "# Q1:\n",
    "# a) Convert the peak rank column in songsdf back to int type\n",
    "# b) In the wikiviewsdf some columns are float type (an artefact of the NaNs we removed), convert these to int type\n"
   ]
  },
  {
   "cell_type": "code",
   "execution_count": null,
   "metadata": {},
   "outputs": [],
   "source": [
    "# Q2: Resample the wikiviewsdf to show the weekly page views to each artist\n"
   ]
  },
  {
   "cell_type": "code",
   "execution_count": null,
   "metadata": {},
   "outputs": [],
   "source": [
    "# Q3: Find the max and median page views for each artist.\n",
    "# Return a Series with the relative difference between them.\n"
   ]
  },
  {
   "cell_type": "markdown",
   "metadata": {},
   "source": [
    "## Combining data from different tables\n",
    "* Often we would like to combine information from different sources into a single DataFrame.\n",
    "* Several different ways to do this:\n",
    "\n",
    "![append](figs/08_concat_row.svg \"append\")"
   ]
  },
  {
   "cell_type": "code",
   "execution_count": null,
   "metadata": {},
   "outputs": [],
   "source": [
    "wikiviewsdf_2021 = pd.read_hdf('data/pageviews_2021.h5')\n",
    "wikiviewsdf_2022 = pd.read_hdf('data/pageviews_2022.h5')"
   ]
  },
  {
   "cell_type": "code",
   "execution_count": null,
   "metadata": {},
   "outputs": [],
   "source": [
    "# Use append to append one df to another\n",
    "\n",
    "wikiviewsdf_2021.append(wikiviewsdf_2022)"
   ]
  },
  {
   "cell_type": "code",
   "execution_count": null,
   "metadata": {},
   "outputs": [],
   "source": [
    "# Use concat to concatenate multiple DataFrames together\n",
    "\n",
    "pd.concat([wikiviewsdf_2021, wikiviewsdf_2022])"
   ]
  },
  {
   "cell_type": "code",
   "execution_count": null,
   "metadata": {},
   "outputs": [],
   "source": [
    "# Let's load some more Spotify data about the songs\n",
    "\n",
    "songsdf_data = pd.read_csv('data/songs_data.csv', index_col=0)\n",
    "display(songsdf_data)"
   ]
  },
  {
   "cell_type": "markdown",
   "metadata": {},
   "source": [
    "### Merging dataframes\n",
    "\n",
    "![merge](figs/08_merge_left.svg \"merge\")"
   ]
  },
  {
   "cell_type": "code",
   "execution_count": null,
   "metadata": {},
   "outputs": [],
   "source": [
    "# Merge DataFrames\n",
    "# Merge is a very flexible function, see the documentation for the variations\n",
    "\n",
    "songsdf = songsdf.merge(songsdf_data, on=['artist_names', 'track_name'])\n",
    "display(songsdf)"
   ]
  },
  {
   "cell_type": "markdown",
   "metadata": {},
   "source": [
    "## 🏋️‍♀️ PRACTICE"
   ]
  },
  {
   "cell_type": "code",
   "execution_count": null,
   "metadata": {},
   "outputs": [],
   "source": [
    "# Q4: Using a for loop with 'append()', combine the yearly page views 2017-2022 DataFrames into a single DataFrame.\n"
   ]
  },
  {
   "cell_type": "code",
   "execution_count": null,
   "metadata": {},
   "outputs": [],
   "source": [
    "# Q5: Repeat the above without a loop, but with a single 'concat()' operation.\n"
   ]
  },
  {
   "cell_type": "code",
   "execution_count": null,
   "metadata": {},
   "outputs": [],
   "source": [
    "# Q6:\n",
    "# a) Sum each artist's total page views over the year 2022 to get a Series.\n",
    "# b) Create a column in songsdf of 'lead_artist' (the first listed artist in artist_names)\n",
    "# c) Combine the total page view Series with the songsdf based on the lead_artist column.\n"
   ]
  },
  {
   "cell_type": "markdown",
   "metadata": {},
   "source": [
    "## Applying functions to DataFrames"
   ]
  },
  {
   "cell_type": "markdown",
   "metadata": {},
   "source": [
    "### Frequently used methods\n",
    "* Non-exhaustive, many more useful operations built-in to `pandas`."
   ]
  },
  {
   "cell_type": "code",
   "execution_count": null,
   "metadata": {
    "scrolled": false
   },
   "outputs": [],
   "source": [
    "# Reset the index to 0,1,2,3... (and optionally keep the index as a column)\n",
    "display(wikiviewsdf.reset_index())\n",
    "\n",
    "# Set an existing column as the index\n",
    "display(songsdf.set_index('track_name'))"
   ]
  },
  {
   "cell_type": "code",
   "execution_count": null,
   "metadata": {},
   "outputs": [],
   "source": [
    "# Drop duplicate entries\n",
    "display(songsdf.drop_duplicates(subset=['artist_names']))"
   ]
  },
  {
   "cell_type": "code",
   "execution_count": null,
   "metadata": {},
   "outputs": [],
   "source": [
    "# Transpose the DataFrame (flip rows/columns)\n",
    "display(songsdf.T)"
   ]
  },
  {
   "cell_type": "code",
   "execution_count": null,
   "metadata": {},
   "outputs": [],
   "source": [
    "# Replace values according to a dictionary\n",
    "mapdict = {\"Rimas Entertainment LLC\":\"Rimas Entertainment\"}\n",
    "display(songsdf.replace(mapdict))"
   ]
  },
  {
   "cell_type": "markdown",
   "metadata": {},
   "source": [
    "### .apply()\n",
    "* What if the operation we want to do is not built-in to `pandas`?\n",
    "* Use `.apply()` to apply any function across rows or columns!"
   ]
  },
  {
   "cell_type": "code",
   "execution_count": null,
   "metadata": {},
   "outputs": [],
   "source": [
    "# Use a lambda function for relatively simple operations\n",
    "\n",
    "# Applied to a DataFrame (note axis=1)\n",
    "display(songsdf.apply(lambda x: x['streams'] / len(x['artist_names'].split(', ')), axis = 1))\n",
    "\n",
    "# The function is equivalent to:\n",
    "def somefunction1(x):\n",
    "    return x['streams'] / len(x['artist_names'].split(', '))\n",
    "\n",
    "# Applied to a Series\n",
    "display(songsdf['artist_names'].apply(lambda x: ''.join([y for y in x if y.lower() not in 'aeiou'])))\n",
    "\n",
    "# The function is equivalent to:\n",
    "def somefunction2(x):\n",
    "    return ''.join([y for y in x if y.lower() not in 'aeiou'])"
   ]
  },
  {
   "cell_type": "code",
   "execution_count": null,
   "metadata": {},
   "outputs": [],
   "source": [
    "# Separately define a function for more complex procedures.\n",
    "\n",
    "# Repeating the above:\n",
    "\n",
    "def streams_per_artist(x):\n",
    "    return x['streams'] / len(x['artist_names'].split(', '))\n",
    "\n",
    "display(songsdf.apply(streams_per_artist, axis=1))\n",
    "\n",
    "# or something more complicated:\n",
    "\n",
    "def fake_fan(x):\n",
    "    lead_artist = x['artist_names'].split(', ')[0]\n",
    "    if x['weeks_on_chart'] < 3:\n",
    "        return \"I love the super new song, %s by %s.\" %(x['track_name'], lead_artist)\n",
    "    elif x['weeks_on_chart'] < 52:\n",
    "        return \"%s by %s is my favourite song of the year.\" %(x['track_name'], lead_artist)\n",
    "    else:\n",
    "        return \"%s is an all-time classic song. %s is a legend.\" %(x['track_name'], lead_artist)\n",
    "\n",
    "display(songsdf.apply(fake_fan, axis=1))"
   ]
  },
  {
   "cell_type": "markdown",
   "metadata": {},
   "source": [
    "## 🏋️‍♀️ PRACTICE"
   ]
  },
  {
   "cell_type": "code",
   "execution_count": null,
   "metadata": {},
   "outputs": [],
   "source": [
    "# Q7: Use a lambda function applied to songsdf to create a column with the phrase:\n",
    "# \"__song name__ by __lead artist name__\"\n",
    "\n"
   ]
  },
  {
   "cell_type": "code",
   "execution_count": null,
   "metadata": {},
   "outputs": [],
   "source": [
    "# Q8: Write a function that takes rank, song title, artist names, and peak rank to output the phrase:\n",
    "#\n",
    "# \"At number __rank__, down from number __peak rank__ [/at its peak], is __song title__\n",
    "# by __artist name1__ [and _artist name2_...].\"\n",
    "#\n",
    "# Apply this to the DataFrame to create a new column.\n"
   ]
  },
  {
   "cell_type": "markdown",
   "metadata": {},
   "source": [
    "## Creating basic plots using `pandas`\n",
    "* We can quickly plot data in DataFrames with the built-in plotting metods.\n",
    "* `pandas` integrates with the standard `matplotlib` library (which we will spend more time on tomorrow).\n",
    "\n",
    "![plot](figs/04_plot_overview.svg \"plot\")"
   ]
  },
  {
   "cell_type": "code",
   "execution_count": null,
   "metadata": {
    "scrolled": false
   },
   "outputs": [],
   "source": [
    "import matplotlib.pyplot as plt\n",
    "\n",
    "# Histogram\n",
    "songsdf['streams'].plot.hist()\n",
    "plt.show()\n",
    "\n",
    "# We can customise elements of the plot\n",
    "songsdf['streams'].plot.hist(title='Streams Histogram', color='r', bins=20)\n",
    "plt.show()"
   ]
  },
  {
   "cell_type": "code",
   "execution_count": null,
   "metadata": {
    "scrolled": false
   },
   "outputs": [],
   "source": [
    "# Line plot\n",
    "wikiviewsdf.iloc[:,:5].plot(title='Artist Wikipedia Page Views', ylabel='Page Views', logy=True)\n",
    "plt.show()\n",
    "\n",
    "# Scatter plot\n",
    "songsdf.plot.scatter(x='streams', y='peak_rank', title='Scatter Plot', logx=True, s=50, alpha=0.5)\n",
    "plt.show()"
   ]
  },
  {
   "cell_type": "markdown",
   "metadata": {},
   "source": [
    "## 🏋️‍♀️ PRACTICE"
   ]
  },
  {
   "cell_type": "code",
   "execution_count": null,
   "metadata": {},
   "outputs": [],
   "source": [
    "# Q9: Plot the top 5 most popular artists' Wikipedia page views over the year 2022 on a single figure\n",
    "# Ensure the plot is appropriately labelled and make any further customisations as you wish\n"
   ]
  },
  {
   "cell_type": "code",
   "execution_count": null,
   "metadata": {},
   "outputs": [],
   "source": [
    "# Q10: Create a scatter plot for total artist streams vs Wikipedia page views (requires correct Q6)\n",
    "# Ensure the plot is appropriately labelled and make any further customisations as you wish\n"
   ]
  }
 ],
 "metadata": {
  "celltoolbar": "Slideshow",
  "kernelspec": {
   "display_name": "Python 3",
   "language": "python",
   "name": "python3"
  },
  "language_info": {
   "codemirror_mode": {
    "name": "ipython",
    "version": 3
   },
   "file_extension": ".py",
   "mimetype": "text/x-python",
   "name": "python",
   "nbconvert_exporter": "python",
   "pygments_lexer": "ipython3",
   "version": "3.7.7"
  }
 },
 "nbformat": 4,
 "nbformat_minor": 2
}
