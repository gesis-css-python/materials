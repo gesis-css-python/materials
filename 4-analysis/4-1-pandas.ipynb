{
 "cells": [
  {
   "cell_type": "markdown",
   "metadata": {
    "slideshow": {
     "slide_type": "slide"
    }
   },
   "source": [
    "### GESIS Fall Seminar in Computational Social Science 2022\n",
    "### Introduction to Computational Social Science with Python\n",
    "# Day 4-1: Introduction to `pandas`"
   ]
  },
  {
   "cell_type": "markdown",
   "metadata": {
    "slideshow": {
     "slide_type": "slide"
    }
   },
   "source": [
    "## Overview\n",
    "\n",
    "* Creating DataFrames\n",
    "* Accessing and filtering data\n",
    "* Computing summary statistics\n",
    "* Reading and writing data"
   ]
  },
  {
   "cell_type": "markdown",
   "metadata": {
    "slideshow": {
     "slide_type": "slide"
    }
   },
   "source": [
    "## The `pandas` package is the foundation of data analysis in Python for Computational Social Scientists\n",
    "* Read/write tabular data, perform dataset calculations, manipulate data, integrate with other popular packages\n",
    "* Similar functionality to analysis with R data.frames, SQL tables, Excel spreadsheets"
   ]
  },
  {
   "cell_type": "code",
   "execution_count": null,
   "metadata": {},
   "outputs": [],
   "source": [
    "import pandas as pd\n",
    "import numpy as np"
   ]
  },
  {
   "cell_type": "markdown",
   "metadata": {
    "slideshow": {
     "slide_type": "slide"
    }
   },
   "source": [
    "## Creating DataFrames\n",
    "* Series\n",
    "* DataFrames"
   ]
  },
  {
   "cell_type": "markdown",
   "metadata": {
    "slideshow": {
     "slide_type": "slide"
    }
   },
   "source": [
    "### Series\n",
    "* One-dimensional array of values with an index and (optionally) a title name.\n",
    "\n",
    "![Pandas Series](figs/01_table_series.svg \"Pandas Series\")"
   ]
  },
  {
   "cell_type": "code",
   "execution_count": null,
   "metadata": {},
   "outputs": [],
   "source": [
    "# Creating Series\n",
    "\n",
    "# Values\n",
    "s = pd.Series([6, 8, 9, 3])\n",
    "display(s)\n",
    "\n",
    "# With list object\n",
    "l = [3, 1, -5, 2.2, 3]\n",
    "t = pd.Series(l)\n",
    "display(t)\n",
    "\n",
    "# With manual index and name\n",
    "ix = [100, 101, 102, 103, 104]\n",
    "u = pd.Series(l, index=ix, name='Title Name')\n",
    "display(u)\n",
    "\n",
    "# With dict\n",
    "d = {4561:'Sasha', 68574:'Eren', 9875:'Jean'}\n",
    "v = pd.Series(d)\n",
    "display(v)"
   ]
  },
  {
   "cell_type": "markdown",
   "metadata": {},
   "source": [
    "### DataFrames\n",
    "* Two-dimensional array of values (a table)\n",
    "* Each column in a DataFrame is a Series\n",
    "\n",
    "![Pandas DataFrame](figs/01_table_dataframe.svg \"Pandas DataFrame\")"
   ]
  },
  {
   "cell_type": "code",
   "execution_count": null,
   "metadata": {},
   "outputs": [],
   "source": [
    "# Creating DataFrames\n",
    "\n",
    "# Values\n",
    "df1 = pd.DataFrame({'col1':[6, 8, 9, 3], 'col2':[6, 2, 5, 1]})\n",
    "display(df1)\n",
    "\n",
    "# With manual index\n",
    "l = [3, 1, -5, 2.2, 3]\n",
    "ix = [100, 101, 102, 103, 104]\n",
    "df2 = pd.DataFrame(l, index=ix, columns=['Title Name'])\n",
    "display(df2)\n",
    "\n",
    "# With Series\n",
    "df3 = pd.DataFrame({'series1':s, 'series2':t})\n",
    "display(df3)\n",
    "\n",
    "# With empty DataFrame and Series\n",
    "# Note the fixed index, and NaN behaviour\n",
    "df4 = pd.DataFrame()\n",
    "df4['series1'] = s\n",
    "df4['series2'] = t\n",
    "df4['series3'] = u\n",
    "display(df4)\n",
    "\n"
   ]
  },
  {
   "cell_type": "markdown",
   "metadata": {},
   "source": [
    "## 🏋️‍♀️ PRACTICE"
   ]
  },
  {
   "cell_type": "code",
   "execution_count": null,
   "metadata": {},
   "outputs": [],
   "source": [
    "# Q1: Create a Series of character names from a Movie / TV show of your choice\n",
    "\n"
   ]
  },
  {
   "cell_type": "code",
   "execution_count": null,
   "metadata": {},
   "outputs": [],
   "source": [
    "# Q2: Create a similar Series with the index 100, 101, 102, ...\n",
    "\n"
   ]
  },
  {
   "cell_type": "code",
   "execution_count": null,
   "metadata": {},
   "outputs": [],
   "source": [
    "# Q3: Create similar DataFrame with the index 100, 101, 102, ... and columns Name, Age, Favourite Colour\n",
    "\n"
   ]
  },
  {
   "cell_type": "markdown",
   "metadata": {},
   "source": [
    "## Accessing and Filtering Data\n",
    "\n",
    "We can select data based on row(s):\n",
    "![Subset Rows](figs/03_subset_rows.svg \"Subset Rows\")\n",
    "\n",
    "Column(s):\n",
    "![Subset Columns](figs/03_subset_columns.svg \"Subset Columns\")\n",
    "\n",
    "Or Both:\n",
    "![Subset Both](figs/03_subset_columns_rows.svg \"Subset Both\")"
   ]
  },
  {
   "cell_type": "code",
   "execution_count": null,
   "metadata": {},
   "outputs": [],
   "source": [
    "# Lets import some more interesting data, on weekly Spotify streams\n",
    "\n",
    "songsdf = pd.read_csv('songs.csv', index_col=0) # We'll do some more later on reading files\n",
    "songnames = songsdf['track_name'].copy()\n",
    "display(songsdf)"
   ]
  },
  {
   "cell_type": "code",
   "execution_count": null,
   "metadata": {},
   "outputs": [],
   "source": [
    "# Accessing data in a Series\n",
    "\n",
    "display(songnames[1])\n",
    "display(songnames.loc[1])\n",
    "display(songnames.iloc[1])\n",
    "\n",
    "# Use ranges and slices\n",
    "display(songnames[[2, 5]])\n",
    "display(songnames.loc[1:3])\n",
    "display(songnames.iloc[1:4])\n"
   ]
  },
  {
   "cell_type": "code",
   "execution_count": null,
   "metadata": {
    "scrolled": false
   },
   "outputs": [],
   "source": [
    "# Accessing data in DataFrames\n",
    "\n",
    "# Columns\n",
    "display(songsdf['artist_names'])\n",
    "\n",
    "# Use ranges and slices\n",
    "\n",
    "display(songsdf[['label', 'streams']])\n",
    "display(songsdf.iloc[:,:2])"
   ]
  },
  {
   "cell_type": "code",
   "execution_count": null,
   "metadata": {},
   "outputs": [],
   "source": [
    "# Accessing data in DataFrames\n",
    "\n",
    "# Rows\n",
    "display(songsdf.loc[1])\n",
    "display(songsdf.iloc[3])\n",
    "\n",
    "\n",
    "# Use ranges and slices\n",
    "\n",
    "display(songsdf.loc[2:4])\n",
    "display(songsdf.iloc[2:4])"
   ]
  },
  {
   "cell_type": "code",
   "execution_count": null,
   "metadata": {},
   "outputs": [],
   "source": [
    "# Accessing data in DataFrames\n",
    "\n",
    "# Values\n",
    "display(songsdf.loc[1, 'streams'])\n",
    "\n",
    "# Use ranges and slices\n",
    "display(songsdf.loc[2:4, 'track_name'])\n",
    "display(songsdf.loc[:2, ['track_name', 'streams']])\n",
    "display(songsdf.iloc[:2, 1:3])"
   ]
  },
  {
   "cell_type": "markdown",
   "metadata": {},
   "source": [
    "### We can edit values in Series and DataFrames too"
   ]
  },
  {
   "cell_type": "code",
   "execution_count": null,
   "metadata": {
    "scrolled": false
   },
   "outputs": [],
   "source": [
    "songnames.loc[5] = \"Running Up That Hill\"\n",
    "display(songnames)\n",
    "display(songsdf)\n",
    "\n",
    "songsdf.loc[5, 'track_name'] = \"A Deal With God\"\n",
    "display(songsdf)\n",
    "\n",
    "songsdf['streams'] = 500\n",
    "display(songsdf)\n",
    "\n",
    "import numpy as np\n",
    "songsdf['streams'] = np.random.poisson(1000000, size=200)\n",
    "display(songsdf)"
   ]
  },
  {
   "cell_type": "code",
   "execution_count": null,
   "metadata": {},
   "outputs": [],
   "source": [
    "# Quick reload of the data to revert any changes made\n",
    "\n",
    "songsdf = pd.read_csv('songs.csv', index_col=0)\n",
    "songnames = songsdf['track_name'].copy()"
   ]
  },
  {
   "cell_type": "markdown",
   "metadata": {},
   "source": [
    "### And also filter based on certain conditions"
   ]
  },
  {
   "cell_type": "code",
   "execution_count": null,
   "metadata": {},
   "outputs": [],
   "source": [
    "display(songsdf[songsdf['peak_rank'] == 1])\n",
    "display(songsdf[(songsdf['label'] == 'Columbia') & (songsdf['streams'] > 10000000)])"
   ]
  },
  {
   "cell_type": "markdown",
   "metadata": {},
   "source": [
    "## 🏋️‍♀️ PRACTICE"
   ]
  },
  {
   "cell_type": "code",
   "execution_count": null,
   "metadata": {},
   "outputs": [],
   "source": [
    "# Q4: Show the artist name and track name of the songs ranked 101-110 (inclusive)\n"
   ]
  },
  {
   "cell_type": "code",
   "execution_count": null,
   "metadata": {},
   "outputs": [],
   "source": [
    "# Q5: Show the track names of the songs by Harry Styles\n"
   ]
  },
  {
   "cell_type": "code",
   "execution_count": null,
   "metadata": {},
   "outputs": [],
   "source": [
    "# Q6: Show the artist name, track name, peak rank, and weeks on chart of the songs which peaked at number 1 \n",
    "# OR have spent more than 100 weeks on the chart\n"
   ]
  },
  {
   "cell_type": "markdown",
   "metadata": {},
   "source": [
    "## Computing Summary Statistics\n",
    "* Lots of useful `pandas` methods\n",
    "* `.min()`, `.max()`, `.idxmax()`, `.mean()`, `.describe()`, `.groupby()`, etc..."
   ]
  },
  {
   "cell_type": "code",
   "execution_count": null,
   "metadata": {},
   "outputs": [],
   "source": [
    "display(songsdf.min())\n",
    "display(songsdf['weeks_on_chart'].idxmax())\n",
    "display(songsdf.loc[songsdf['weeks_on_chart'].idxmax()])"
   ]
  },
  {
   "cell_type": "code",
   "execution_count": null,
   "metadata": {},
   "outputs": [],
   "source": [
    "display(songsdf.describe())"
   ]
  },
  {
   "cell_type": "code",
   "execution_count": null,
   "metadata": {},
   "outputs": [],
   "source": [
    "display(songsdf['artist_names'].value_counts())"
   ]
  },
  {
   "cell_type": "markdown",
   "metadata": {},
   "source": [
    "### `groupby()` is a useful operation for aggregating entries and getting summary stats of groups\n",
    "\n",
    "<center>songsdf ----------> .groupby('artist_names') ----------> ['streams'].sum()</center>\n",
    "\n",
    "![groupby](figs/06_groupby.svg \"groupby\")\n"
   ]
  },
  {
   "cell_type": "code",
   "execution_count": null,
   "metadata": {},
   "outputs": [],
   "source": [
    "display(songsdf.groupby('artist_names')['streams'].sum())\n",
    "display(songsdf.groupby('artist_names')['streams'].sum().sort_values(ascending=False))"
   ]
  },
  {
   "cell_type": "markdown",
   "metadata": {},
   "source": [
    "## 🏋️‍♀️ PRACTICE"
   ]
  },
  {
   "cell_type": "code",
   "execution_count": null,
   "metadata": {},
   "outputs": [],
   "source": [
    "# Q7: Calculate the average number of streams\n",
    "\n"
   ]
  },
  {
   "cell_type": "code",
   "execution_count": null,
   "metadata": {},
   "outputs": [],
   "source": [
    "# Q8: Calculate the number of unique artist names (do not worry about multiple artists featured on one track)\n",
    "# Hint, search the web for the pandas documentation for the n unique elements in a series...\n"
   ]
  },
  {
   "cell_type": "code",
   "execution_count": null,
   "metadata": {},
   "outputs": [],
   "source": [
    "# Q9: Find the label with the highest total streams, and save it as a string variable `toplabel`\n",
    "\n"
   ]
  },
  {
   "cell_type": "markdown",
   "metadata": {},
   "source": [
    "## Reading and Writing Data\n",
    "* `pandas` is able to read and write data to/from many common file formats.\n",
    "* Allows you to save data as you work, and import/export data from/to other analysis software."
   ]
  },
  {
   "cell_type": "markdown",
   "metadata": {},
   "source": [
    "Standard syntax depending on format `[...]`\n",
    "\n",
    "`df = pd.read_[...]('filename')` and `df.to_[...]('filename')`"
   ]
  },
  {
   "cell_type": "markdown",
   "metadata": {},
   "source": [
    "### CSVs\n",
    "* Be aware of how the index and column titles are handled.\n",
    "* Other separators ('delimiters') also supported (tabs, whitespace, etc.)"
   ]
  },
  {
   "cell_type": "code",
   "execution_count": null,
   "metadata": {},
   "outputs": [],
   "source": [
    "pd.read_csv()\n"
   ]
  },
  {
   "cell_type": "markdown",
   "metadata": {},
   "source": [
    "### JSON\n",
    "* We often acquire JSON from API usage.\n",
    "* Not all JSON files are 'normalized' to a rectangular table format, so you may encounter errors or unexpected behaviour."
   ]
  },
  {
   "cell_type": "code",
   "execution_count": null,
   "metadata": {},
   "outputs": [],
   "source": [
    "pd.read_json()\n"
   ]
  },
  {
   "cell_type": "markdown",
   "metadata": {},
   "source": [
    "### HTML\n",
    "* Can read HTML files, strings, or URLs directly.\n",
    "* Parsing HTML tables can be complicated, especially when there are merged cells, so it's worth checking over the values after import."
   ]
  },
  {
   "cell_type": "code",
   "execution_count": null,
   "metadata": {},
   "outputs": [],
   "source": [
    "pd.read_html()\n"
   ]
  },
  {
   "cell_type": "markdown",
   "metadata": {},
   "source": [
    "### HDF\n",
    "* Suitable for large, complex tables.\n",
    "* Typically smaller files, and faster read/write."
   ]
  },
  {
   "cell_type": "code",
   "execution_count": null,
   "metadata": {},
   "outputs": [],
   "source": [
    "pd.read_hdf()"
   ]
  },
  {
   "cell_type": "markdown",
   "metadata": {},
   "source": [
    "### Many more, including xlsx, sql, pickle, ..."
   ]
  },
  {
   "cell_type": "markdown",
   "metadata": {},
   "source": [
    "## 🏋️‍♀️ PRACTICE"
   ]
  },
  {
   "cell_type": "code",
   "execution_count": null,
   "metadata": {},
   "outputs": [],
   "source": [
    "# Q10: Read the file ' .tsv' and save it as ' .json'\n",
    "# Hint: what might \".tsv\" stand for...\n"
   ]
  },
  {
   "cell_type": "code",
   "execution_count": null,
   "metadata": {},
   "outputs": [],
   "source": [
    "# Q11: Read any table from Wikipedia, check it is formatted correctly, and save it as an hdf file\n"
   ]
  },
  {
   "cell_type": "code",
   "execution_count": null,
   "metadata": {},
   "outputs": [],
   "source": [
    "# Q12: Read the file ' .h5' with key 'table', subset it so that only _, and save it as csv.\n"
   ]
  }
 ],
 "metadata": {
  "celltoolbar": "Slideshow",
  "kernelspec": {
   "display_name": "Python 3",
   "language": "python",
   "name": "python3"
  },
  "language_info": {
   "codemirror_mode": {
    "name": "ipython",
    "version": 3
   },
   "file_extension": ".py",
   "mimetype": "text/x-python",
   "name": "python",
   "nbconvert_exporter": "python",
   "pygments_lexer": "ipython3",
   "version": "3.7.7"
  }
 },
 "nbformat": 4,
 "nbformat_minor": 2
}
