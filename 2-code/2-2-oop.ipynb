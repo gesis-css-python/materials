{
 "cells": [
  {
   "cell_type": "markdown",
   "metadata": {
    "slideshow": {
     "slide_type": "slide"
    }
   },
   "source": [
    "### GESIS Fall Seminar in Computational Social Science 2022\n",
    "### Introduction to Computational Social Science with Python\n",
    "# Day 2-2: Abstraction and Decomposition"
   ]
  },
  {
   "cell_type": "markdown",
   "metadata": {
    "slideshow": {
     "slide_type": "slide"
    }
   },
   "source": [
    "## Overview\n",
    "\n",
    "* Abstraction and decomposition\n",
    "* Procedural programming\n",
    "* Object-oriented programming\n",
    "* Defining classes"
   ]
  },
  {
   "cell_type": "markdown",
   "metadata": {
    "id": "NJMcBPbL58DL",
    "slideshow": {
     "slide_type": "slide"
    }
   },
   "source": [
    "## Decomposition and Abstraction\n",
    "\n",
    "* **Decomposition creates structure** – it allows to break the program into self-contained parts\n",
    "* **Abstraction hides detail** – it allows to use code as if it is a black box\n",
    "\n",
    "![Decomposition and abstraction](figs/decomposition_abstraction.png \"Decomposition and abstraction\")"
   ]
  },
  {
   "cell_type": "markdown",
   "metadata": {
    "slideshow": {
     "slide_type": "slide"
    }
   },
   "source": [
    "## Achieving Decomposition and Abstraction\n",
    "\n",
    "* With functions\n",
    "* With **classes**"
   ]
  },
  {
   "cell_type": "markdown",
   "metadata": {
    "id": "Qi9Irvx458DM",
    "slideshow": {
     "slide_type": "slide"
    }
   },
   "source": [
    "# Object-Oriented Programming\n",
    "\n",
    "A programming paradigm based on the concept of \"objects\"\n",
    "\n",
    "An object is a **data abstraction** that captures:\n",
    "\n",
    "* **Internal representation** (data attributes)\n",
    "* **Interface** for interacting with object (methods)\n"
   ]
  },
  {
   "cell_type": "markdown",
   "metadata": {
    "id": "8TQ-OYm658DM",
    "slideshow": {
     "slide_type": "slide"
    }
   },
   "source": [
    "## Procedural  vs. Object-Oriented Programming\n",
    "\n",
    "![Procedural vs. object-oriented programming](figs/procedural_object-oriented.png \"Procedural vs. object-oriented programming\")"
   ]
  },
  {
   "cell_type": "markdown",
   "metadata": {
    "slideshow": {
     "slide_type": "slide"
    }
   },
   "source": [
    "## Encapsulation and Information Hiding\n",
    "\n",
    "* **Encapsulation** – the bundling of data attributes and the methods for operating on them\n",
    "* **Information hiding** – allows changing the class definition without affecting its external behavior\n",
    "\n",
    "![Encapsulation and infromation hiding](figs/encapsulation.png \"Encapsulation and infromation hiding\")\n",
    "\n",
    "### Encapsulation and information hiding keep class attributes and methods safe from outside interference and misuse.\n"
   ]
  },
  {
   "cell_type": "markdown",
   "metadata": {
    "id": "NIl_fm6458DM",
    "slideshow": {
     "slide_type": "slide"
    }
   },
   "source": [
    "## Everything in Python Is an Object!\n",
    "\n",
    "* Objects have types (belong to classes)\n",
    "* Objects also have a set of procedures for interacting with them (methods)"
   ]
  },
  {
   "cell_type": "code",
   "execution_count": 172,
   "metadata": {
    "id": "PV_hHZk958DM",
    "outputId": "10f08c59-3e80-4a8b-cd77-5212e224028b",
    "slideshow": {
     "slide_type": "-"
    }
   },
   "outputs": [
    {
     "data": {
      "text/plain": [
       "'SOME STRING'"
      ]
     },
     "execution_count": 172,
     "metadata": {},
     "output_type": "execute_result"
    }
   ],
   "source": [
    "s = 'some string'\n",
    "type(s)\n",
    "s.upper()"
   ]
  },
  {
   "cell_type": "markdown",
   "metadata": {
    "id": "b3HL2NAN58DM",
    "slideshow": {
     "slide_type": "slide"
    }
   },
   "source": [
    "## Defining Classes in Python\n"
   ]
  },
  {
   "cell_type": "code",
   "execution_count": 173,
   "metadata": {
    "id": "vBDd-Gx158DM",
    "outputId": "0ba0fa55-a3a3-4fcb-9b46-ce549c30a875",
    "slideshow": {
     "slide_type": "-"
    }
   },
   "outputs": [
    {
     "name": "stdout",
     "output_type": "stream",
     "text": [
      "Greta Thunberg\n"
     ]
    }
   ],
   "source": [
    "from datetime import date\n",
    "\n",
    "class Person(object):\n",
    "        \n",
    "    def __init__(self, f_name, l_name):\n",
    "        \"\"\"Creates a person using first and last names.\"\"\"\n",
    "        self.first_name = f_name\n",
    "        self.last_name = l_name\n",
    "        self.birthdate = None\n",
    "    \n",
    "    def get_name(self):\n",
    "        \"\"\"Gets self's full name.\"\"\"\n",
    "        return self.first_name + ' ' + self.last_name\n",
    "    \n",
    "    def get_age(self):\n",
    "        \"\"\"Gets self's age in years.\"\"\"\n",
    "        return date.today().year - self.birthdate.year\n",
    "    \n",
    "    def set_birthdate(self, dob):\n",
    "        \"\"\"Assumes dob is of type date.\n",
    "        Sets self's birthdate to dob.\n",
    "        \"\"\"\n",
    "        self.birthdate = dob\n",
    "    \n",
    "    def __str__(self):\n",
    "        \"\"\"Returns self's full name.\"\"\"\n",
    "        return self.first_name + ' ' + self.last_name\n",
    "    \n",
    "p1 = Person('Greta', 'Thunberg')\n",
    "print(p1)\n",
    "p1.set_birthdate(date(2003, 1, 3))"
   ]
  },
  {
   "cell_type": "markdown",
   "metadata": {
    "id": "y3tJ51GJ58DM",
    "slideshow": {
     "slide_type": "slide"
    }
   },
   "source": [
    "## Defining Classes in Python\n",
    "\n",
    "* Data attributes — `first_name`, `last_name`, `birthdate`\n",
    "* Methods\n",
    "  * `get_name()`, `get_age()`, `set_birthdate()`\n",
    "  * `__init__()` — called when a class is instantiated\n",
    "  * `__str__()` — called by `print()` and `str()`\n",
    "  \n",
    "---\n",
    "\n",
    "* Operations\n",
    "  * Instantiation: `p1 = Person('Greta', 'Thunberg')` calls method `__init__()`\n",
    "  * Attribute/method reference: `p1.get_age()`"
   ]
  },
  {
   "cell_type": "markdown",
   "metadata": {
    "id": "obAch1eI58DM",
    "slideshow": {
     "slide_type": "slide"
    }
   },
   "source": [
    "## Classes vs. Objects\n",
    "\n",
    "* `Person` is a class\n",
    "* `p1` is an instance of the class `Person`; it is an object of type `Person`\n",
    "* Similarly, `str` is a class and `'Greta Thunberg'` is an object of type `str`\n",
    "\n",
    "![Class vs. object](figs/person_greta.png \"Class vs. object\")\n",
    "\n",
    "By Anders Hellberg - Own work, CC BY-SA 4.0, https://commons.wikimedia.org/w/index.php?curid=77270098\n",
    "\n"
   ]
  },
  {
   "cell_type": "markdown",
   "metadata": {
    "slideshow": {
     "slide_type": "slide"
    }
   },
   "source": [
    "## 🏋️‍♀️ PRACTICE"
   ]
  },
  {
   "cell_type": "code",
   "execution_count": null,
   "metadata": {
    "slideshow": {
     "slide_type": "-"
    }
   },
   "outputs": [],
   "source": [
    "# Q9: Update the class below to include the attribute occupation.\n",
    "# Then write a get method and a set method for occupation.\n",
    "\n",
    "class Person(object):\n",
    "        \n",
    "    def __init__(self, f_name, l_name):\n",
    "        \"\"\"Creates a person using first and last names.\"\"\"\n",
    "        self.first_name = f_name\n",
    "        self.last_name = l_name\n",
    "        self.birthdate = None\n",
    "    \n",
    "    def get_name(self):\n",
    "        \"\"\"Gets self's full name.\"\"\"\n",
    "        return self.first_name + ' ' + self.last_name\n",
    "    \n",
    "    def get_age(self):\n",
    "        \"\"\"Gets self's age in years.\"\"\"\n",
    "        return date.today().year - self.birthdate.year\n",
    "    \n",
    "    def set_birthdate(self, dob):\n",
    "        \"\"\"Assumes dob is of type date.\n",
    "        Sets self's birthdate to dob.\n",
    "        \"\"\"\n",
    "        self.birthdate = dob\n",
    "    \n",
    "    def __str__(self):\n",
    "        \"\"\"Returns self's full name.\"\"\"\n",
    "        return self.get_name()\n",
    "    \n",
    "    def __lt__(self, other):\n",
    "        \"\"\"Returns True if self's last name precedes other's last name\n",
    "        in alphabethical order. If they are equal, compares first names.\n",
    "        \"\"\"\n",
    "        if self.last_name == other.last_name:\n",
    "            return self.first_name < other.first_name\n",
    "        return self.last_name < other.last_name\n",
    "    \n",
    "p1 = Person('Greta', 'Thunberg')"
   ]
  }
 ],
 "metadata": {
  "celltoolbar": "Slideshow",
  "kernelspec": {
   "display_name": "Python 3 (ipykernel)",
   "language": "python",
   "name": "python3"
  },
  "language_info": {
   "codemirror_mode": {
    "name": "ipython",
    "version": 3
   },
   "file_extension": ".py",
   "mimetype": "text/x-python",
   "name": "python",
   "nbconvert_exporter": "python",
   "pygments_lexer": "ipython3",
   "version": "3.9.7"
  }
 },
 "nbformat": 4,
 "nbformat_minor": 2
}
