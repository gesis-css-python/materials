{
 "cells": [
  {
   "cell_type": "markdown",
   "metadata": {
    "slideshow": {
     "slide_type": "slide"
    }
   },
   "source": [
    "# Mini-Project: Comparing Trump's and Biden's Inaugural Speeches\n",
    "\n",
    "We will use a mini CSS project as an extended example to put into practice the concepts we are learning. The project aims to analyze and compare the inaugural speeches of the current and last US presidents. We will guide you through each successive step.\n",
    "\n",
    "The speech transcripts were obtained from https://millercenter.org/the-presidency/presidential-speeches and copied in the text files `biden_inauguration_millercenter.txt` and `trump_inauguration_millercenter.txt` in the `data` folder.\n"
   ]
  },
  {
   "cell_type": "markdown",
   "metadata": {
    "slideshow": {
     "slide_type": "slide"
    }
   },
   "source": [
    "## 1. Import data\n",
    "\n",
    "First, we will get the data into a Python-native format. Create a function that reads one of the text files into a single string and returns the string. We have provided some skeleton code for you to use.  "
   ]
  },
  {
   "cell_type": "code",
   "execution_count": 4,
   "metadata": {
    "scrolled": false,
    "slideshow": {
     "slide_type": "-"
    }
   },
   "outputs": [],
   "source": [
    "def get_text(fname):\n",
    "    \"\"\"Read given text file and return a string with the contents.\n",
    "    \"\"\"\n",
    "    \n",
    "    # Open the file and get the text into a string variable called txt\n",
    "    with open(fname) as f:\n",
    "        txt = f.read()\n",
    "        \n",
    "    # Remove any trailing white space and paragraphs\n",
    "    \n",
    "    # Format consistently by replacing ’ with '\n",
    "    \n",
    "    # Return the formatted string\n",
    "    \n",
    "    \n",
    "# Call the function on Trump's speech and print the first 500 characters\n"
   ]
  },
  {
   "cell_type": "markdown",
   "metadata": {
    "slideshow": {
     "slide_type": "slide"
    }
   },
   "source": [
    "## 2. Clean and tokenize text\n",
    "\n",
    "In the next step, we will process the data so that a machine can analyze it. Create another function called `get_tokens()` that takes a string with something that looks like a speech, cleans up the text, and extract a list of all the words used in the speech in the order they appear. We have provided some clues below."
   ]
  },
  {
   "cell_type": "code",
   "execution_count": 5,
   "metadata": {
    "scrolled": true,
    "slideshow": {
     "slide_type": "-"
    }
   },
   "outputs": [],
   "source": [
    "def get_tokens(txt):\n",
    "    \"\"\"Take given string and return a list with all words in lowercase\n",
    "    in the order they appear in the text. Common contractions are expanded\n",
    "    and hyphenated words are combined in one word.\n",
    "    \"\"\"\n",
    "    \n",
    "    # The below steps will require some back-and-forth: Think of what\n",
    "    # should be removed/replaced, review the results, correct mistakes \n",
    "    # and add additional rules to cover what you may have missed\n",
    "    \n",
    "    # Get rid of possessives so that nation's becomes nation \n",
    "    \n",
    "    # Expand contractions such that I've becomes I have, can't becomes cannot, etc.\n",
    "    \n",
    "    # Remove all punctuation \n",
    "        \n",
    "    # Convert to lower-case\n",
    "        \n",
    "    # Break into words\n",
    "    \n",
    "    # Return the list of tokens\n",
    "    \n",
    "    pass # This is temporary placeholder to prevent syntax errors; delete eventually\n",
    "\n",
    "    \n",
    "# Call the function on Trump's speech and print the first 50 tokens\n",
    "\n"
   ]
  },
  {
   "cell_type": "markdown",
   "metadata": {
    "slideshow": {
     "slide_type": "slide"
    }
   },
   "source": [
    "## 3. Count words\n",
    "\n",
    "Now, tokenize Biden's speech in the same way. How many words does each speech contains? Who has the longer speech?"
   ]
  },
  {
   "cell_type": "code",
   "execution_count": null,
   "metadata": {
    "slideshow": {
     "slide_type": "-"
    }
   },
   "outputs": [],
   "source": [
    "\n"
   ]
  },
  {
   "cell_type": "markdown",
   "metadata": {
    "slideshow": {
     "slide_type": "slide"
    }
   },
   "source": [
    "## 4. Evaluate vocabulary\n",
    "\n",
    "Next, look at the unique words used by each speaker. Who uses more unique words? Whose speech is more repetitive?"
   ]
  },
  {
   "cell_type": "code",
   "execution_count": null,
   "metadata": {
    "slideshow": {
     "slide_type": "-"
    }
   },
   "outputs": [],
   "source": [
    "\n"
   ]
  },
  {
   "cell_type": "markdown",
   "metadata": {
    "slideshow": {
     "slide_type": "slide"
    }
   },
   "source": [
    "## 5. Discover the main themes\n",
    "\n",
    "Finally, we will identify the most repeated words, which will give us an idea of the main recurring themes in the speeches.\n",
    "\n",
    "To begin with, write a function that identifies the most commonly used meaningful words. We will count the number of times each unique word is mentioned in the speech but exclude non-meaningful words such as articles and prepositions, because these are trivially common. \n",
    "\n",
    "Use the helping code below and write your code around it to complete the function and call it.\n"
   ]
  },
  {
   "cell_type": "code",
   "execution_count": 6,
   "metadata": {
    "scrolled": true,
    "slideshow": {
     "slide_type": "-"
    }
   },
   "outputs": [],
   "source": [
    "# We declare a global variable to list stop words. \n",
    "# Stop words are common words that are not meaningful in this context.\n",
    "STOP_WORDS = ['a', 'about', 'across', 'after', 'an', 'and', 'any', 'are', 'as', 'at', \n",
    "              'be', 'because', 'but', 'by', 'did', 'do', 'does', 'for', 'from',\n",
    "              'get', 'has', 'have', 'if', 'in', 'is', 'it', 'its',\n",
    "              'many', 'more', 'much', 'no', 'not', 'of', 'on', 'or', 'out',\n",
    "              'so', 'some', 'than', 'the', 'this', 'that', 'those', 'through', 'to',\n",
    "              'very', 'what', 'where', 'whether', 'which', 'while', 'who', 'with']\n",
    "\n",
    "\n",
    "def get_word_counts(tokens, stopwords):\n",
    "    \"\"\"Take a list of tokens and a list of stopwords and \n",
    "    return a list with the unique meaningful words (words that are not stopwords)\n",
    "    sorted by how often they appear. The list contains (word, count) tuples \n",
    "    and is sorted in descending order by count.\n",
    "    \"\"\"\n",
    "    # Create an empty dictionary where we will have word: count\n",
    "    \n",
    "    # For each token, if it is not in stopwords, either add it \n",
    "    # as a key with count 1 if it is new, or increase its count\n",
    "    # by 1 if it already exists\n",
    "    \n",
    "    # Get the dictionary items as tuples and sort them by the counts in descending order\n",
    "    \n",
    "    # Return\n",
    "    \n",
    "    pass # Delete once you have other code\n"
   ]
  },
  {
   "cell_type": "markdown",
   "metadata": {
    "slideshow": {
     "slide_type": "slide"
    }
   },
   "source": [
    "Now, identify the 10 most commonly used meaningful words for Trump and Biden to reveal the theme and tone of their speech. What do you notice?"
   ]
  },
  {
   "cell_type": "code",
   "execution_count": null,
   "metadata": {
    "scrolled": false,
    "slideshow": {
     "slide_type": "-"
    }
   },
   "outputs": [],
   "source": [
    "\n"
   ]
  },
  {
   "cell_type": "markdown",
   "metadata": {
    "slideshow": {
     "slide_type": "slide"
    }
   },
   "source": [
    "In the end, can you get the words that are unique to either Trump or Biden? These are words that Trump mentions at least twice but Biden doesn't, and vice versa. We impose the rule of the word being repeated to get more robust results. Do you notice any trends?"
   ]
  },
  {
   "cell_type": "code",
   "execution_count": null,
   "metadata": {
    "scrolled": false,
    "slideshow": {
     "slide_type": "-"
    }
   },
   "outputs": [],
   "source": [
    "\n"
   ]
  }
 ],
 "metadata": {
  "kernelspec": {
   "display_name": "Python 3 (ipykernel)",
   "language": "python",
   "name": "python3"
  },
  "language_info": {
   "codemirror_mode": {
    "name": "ipython",
    "version": 3
   },
   "file_extension": ".py",
   "mimetype": "text/x-python",
   "name": "python",
   "nbconvert_exporter": "python",
   "pygments_lexer": "ipython3",
   "version": "3.9.7"
  }
 },
 "nbformat": 4,
 "nbformat_minor": 2
}
